{
 "cells": [
  {
   "cell_type": "markdown",
   "metadata": {},
   "source": [
    "<img src=\"images/dask_horizontal.svg\" align=\"right\" width=\"30%\">"
   ]
  },
  {
   "cell_type": "markdown",
   "metadata": {},
   "source": [
    "# Bag: Parallel Lists for semi-structured data"
   ]
  },
  {
   "cell_type": "markdown",
   "metadata": {},
   "source": [
    "Dask-bag excels in processing data that can be represented as a sequence of arbitrary inputs. We'll refer to this as \"messy\" data, because it can contain complex nested structures, missing fields, mixtures of data types, etc. The *functional* programming style fits very nicely with standard Python iteration, such as can be found in the `itertools` module.\n",
    "\n",
    "Messy data is often encountered at the beginning of data processing pipelines when large volumes of raw data are first consumed. The initial set of data might be JSON, CSV, XML, or any other format that does not enforce strict structure and datatypes.\n",
    "For this reason, the initial data massaging and processing is often done with Python `list`s, `dict`s, and `set`s.\n",
    "\n",
    "These core data structures are optimized for general-purpose storage and processing.  Adding streaming computation with iterators/generator expressions or libraries like `itertools` or [`toolz`](https://toolz.readthedocs.io/en/latest/) let us process large volumes in a small space.  If we combine this with parallel processing then we can churn through a fair amount of data.\n",
    "\n",
    "Dask.bag is a high level Dask collection to automate common workloads of this form.  In a nutshell\n",
    "\n",
    "    dask.bag = map, filter, toolz + parallel execution\n",
    "    \n",
    "**Related Documentation**\n",
    "\n",
    "* [Bag documentation](https://docs.dask.org/en/latest/bag.html)\n",
    "* [Bag screencast](https://youtu.be/-qIiJ1XtSv0)\n",
    "* [Bag API](https://docs.dask.org/en/latest/bag-api.html)\n",
    "* [Bag examples](https://examples.dask.org/bag.html)"
   ]
  },
  {
   "cell_type": "markdown",
   "metadata": {},
   "source": [
    "## Create data"
   ]
  },
  {
   "cell_type": "code",
   "execution_count": 1,
   "metadata": {
    "execution": {
     "iopub.execute_input": "2021-02-02T03:57:15.328167Z",
     "iopub.status.busy": "2021-02-02T03:57:15.327693Z",
     "iopub.status.idle": "2021-02-02T03:57:15.933477Z",
     "shell.execute_reply": "2021-02-02T03:57:15.932235Z"
    }
   },
   "outputs": [],
   "source": [
    "%run prep.py -d accounts"
   ]
  },
  {
   "cell_type": "markdown",
   "metadata": {},
   "source": [
    "## Setup"
   ]
  },
  {
   "cell_type": "markdown",
   "metadata": {},
   "source": [
    "Again, we'll use the distributed scheduler. Schedulers will be explained in depth [later](05_distributed.ipynb)."
   ]
  },
  {
   "cell_type": "code",
   "execution_count": 2,
   "metadata": {
    "execution": {
     "iopub.execute_input": "2021-02-02T03:57:15.937571Z",
     "iopub.status.busy": "2021-02-02T03:57:15.936712Z",
     "iopub.status.idle": "2021-02-02T03:57:17.618491Z",
     "shell.execute_reply": "2021-02-02T03:57:17.617980Z"
    }
   },
   "outputs": [],
   "source": [
    "from dask.distributed import Client\n",
    "\n",
    "client = Client(n_workers=4)"
   ]
  },
  {
   "cell_type": "markdown",
   "metadata": {},
   "source": [
    "## Creation"
   ]
  },
  {
   "cell_type": "markdown",
   "metadata": {},
   "source": [
    "You can create a `Bag` from a Python sequence, from files, from data on S3, etc.\n",
    "We demonstrate using `.take()` to show elements of the data. (Doing `.take(1)` results in a tuple with one element)\n",
    "\n",
    "Note that the data are partitioned into blocks, and there are many items per block. In the first example, the two partitions contain five elements each, and in the following two, each file is partitioned into one or more bytes blocks."
   ]
  },
  {
   "cell_type": "code",
   "execution_count": 3,
   "metadata": {
    "execution": {
     "iopub.execute_input": "2021-02-02T03:57:17.623284Z",
     "iopub.status.busy": "2021-02-02T03:57:17.622791Z",
     "iopub.status.idle": "2021-02-02T03:57:17.677264Z",
     "shell.execute_reply": "2021-02-02T03:57:17.676539Z"
    }
   },
   "outputs": [
    {
     "data": {
      "text/plain": [
       "(1, 2, 3)"
      ]
     },
     "execution_count": 1,
     "metadata": {},
     "output_type": "execute_result"
    }
   ],
   "source": [
    "# each element is an integer\n",
    "import dask.bag as db\n",
    "b = db.from_sequence([1, 2, 3, 4, 5, 6, 7, 8, 9, 10], npartitions=2)\n",
    "b.take(3)"
   ]
  },
  {
   "cell_type": "code",
   "execution_count": 4,
   "metadata": {
    "execution": {
     "iopub.execute_input": "2021-02-02T03:57:17.681637Z",
     "iopub.status.busy": "2021-02-02T03:57:17.680650Z",
     "iopub.status.idle": "2021-02-02T03:57:17.706845Z",
     "shell.execute_reply": "2021-02-02T03:57:17.707239Z"
    }
   },
   "outputs": [
    {
     "data": {
      "text/plain": [
       "('{\"id\": 0, \"name\": \"Yvonne\", \"transactions\": [{\"transaction-id\": 1899, \"amount\": 94}, {\"transaction-id\": 2661, \"amount\": -72}, {\"transaction-id\": 3757, \"amount\": -54}, {\"transaction-id\": 4224, \"amount\": -20}, {\"transaction-id\": 4917, \"amount\": -19}, {\"transaction-id\": 5203, \"amount\": 28}, {\"transaction-id\": 5266, \"amount\": 0}, {\"transaction-id\": 7267, \"amount\": -87}, {\"transaction-id\": 7295, \"amount\": -36}, {\"transaction-id\": 7616, \"amount\": 24}, {\"transaction-id\": 7846, \"amount\": 14}, {\"transaction-id\": 8430, \"amount\": -25}, {\"transaction-id\": 9511, \"amount\": 28}, {\"transaction-id\": 9786, \"amount\": 29}]}\\n',)"
      ]
     },
     "execution_count": 1,
     "metadata": {},
     "output_type": "execute_result"
    }
   ],
   "source": [
    "# each element is a text file, where each line is a JSON object\n",
    "# note that the compression is handled automatically\n",
    "import os\n",
    "b = db.read_text(os.path.join('data', 'accounts.*.json.gz'))\n",
    "b.take(1)"
   ]
  },
  {
   "cell_type": "code",
   "execution_count": 5,
   "metadata": {
    "execution": {
     "iopub.execute_input": "2021-02-02T03:57:17.710790Z",
     "iopub.status.busy": "2021-02-02T03:57:17.710315Z",
     "iopub.status.idle": "2021-02-02T03:57:17.715406Z",
     "shell.execute_reply": "2021-02-02T03:57:17.714881Z"
    }
   },
   "outputs": [
    {
     "data": {
      "text/plain": [
       "'s3://dask-data/nyc-taxi/2015/yellow_tripdata_2015-01.csv'"
      ]
     },
     "execution_count": 1,
     "metadata": {},
     "output_type": "execute_result"
    }
   ],
   "source": [
    "# Edit sources.py to configure source locations\n",
    "import sources\n",
    "sources.bag_url"
   ]
  },
  {
   "cell_type": "code",
   "execution_count": 6,
   "metadata": {
    "execution": {
     "iopub.execute_input": "2021-02-02T03:57:17.718843Z",
     "iopub.status.busy": "2021-02-02T03:57:17.718393Z",
     "iopub.status.idle": "2021-02-02T03:57:18.445674Z",
     "shell.execute_reply": "2021-02-02T03:57:18.444914Z"
    }
   },
   "outputs": [
    {
     "data": {
      "text/plain": [
       "('VendorID,tpep_pickup_datetime,tpep_dropoff_datetime,passenger_count,trip_distance,pickup_longitude,pickup_latitude,RateCodeID,store_and_fwd_flag,dropoff_longitude,dropoff_latitude,payment_type,fare_amount,extra,mta_tax,tip_amount,tolls_amount,improvement_surcharge,total_amount\\n',)"
      ]
     },
     "execution_count": 1,
     "metadata": {},
     "output_type": "execute_result"
    }
   ],
   "source": [
    "# Requires `s3fs` library\n",
    "# each partition is a remote CSV text file\n",
    "b = db.read_text(sources.bag_url,\n",
    "                 storage_options={'anon': True})\n",
    "b.take(1)"
   ]
  },
  {
   "cell_type": "markdown",
   "metadata": {},
   "source": [
    "## Manipulation"
   ]
  },
  {
   "cell_type": "markdown",
   "metadata": {},
   "source": [
    "`Bag` objects hold the standard functional API found in projects like the Python standard library, `toolz`, or `pyspark`, including `map`, `filter`, `groupby`, etc..\n",
    "\n",
    "Operations on `Bag` objects create new bags.  Call the `.compute()` method to trigger execution, as we saw for `Delayed` objects.  "
   ]
  },
  {
   "cell_type": "code",
   "execution_count": 7,
   "metadata": {
    "execution": {
     "iopub.execute_input": "2021-02-02T03:57:18.451302Z",
     "iopub.status.busy": "2021-02-02T03:57:18.450786Z",
     "iopub.status.idle": "2021-02-02T03:57:18.452777Z",
     "shell.execute_reply": "2021-02-02T03:57:18.453177Z"
    }
   },
   "outputs": [
    {
     "data": {
      "text/plain": [
       "dask.bag<lambda, npartitions=10>"
      ]
     },
     "execution_count": 1,
     "metadata": {},
     "output_type": "execute_result"
    }
   ],
   "source": [
    "def is_even(n):\n",
    "    return n % 2 == 0\n",
    "\n",
    "b = db.from_sequence([1, 2, 3, 4, 5, 6, 7, 8, 9, 10])\n",
    "c = b.filter(is_even).map(lambda x: x ** 2)\n",
    "c"
   ]
  },
  {
   "cell_type": "code",
   "execution_count": 8,
   "metadata": {
    "execution": {
     "iopub.execute_input": "2021-02-02T03:57:18.456243Z",
     "iopub.status.busy": "2021-02-02T03:57:18.455751Z",
     "iopub.status.idle": "2021-02-02T03:57:18.537502Z",
     "shell.execute_reply": "2021-02-02T03:57:18.537919Z"
    }
   },
   "outputs": [
    {
     "data": {
      "text/plain": [
       "[4, 16, 36, 64, 100]"
      ]
     },
     "execution_count": 1,
     "metadata": {},
     "output_type": "execute_result"
    }
   ],
   "source": [
    "# blocking form: wait for completion (which is very fast in this case)\n",
    "c.compute()"
   ]
  },
  {
   "cell_type": "markdown",
   "metadata": {},
   "source": [
    "### Example: Accounts JSON data"
   ]
  },
  {
   "cell_type": "markdown",
   "metadata": {},
   "source": [
    "We've created a fake dataset of gzipped JSON data in your data directory.  This is like the example used in the `DataFrame` example we will see later, except that it has bundled up all of the entires for each individual `id` into a single record.  This is similar to data that you might collect off of a document store database or a web API.\n",
    "\n",
    "Each line is a JSON encoded dictionary with the following keys\n",
    "\n",
    "*  id: Unique identifier of the customer\n",
    "*  name: Name of the customer\n",
    "*  transactions: List of `transaction-id`, `amount` pairs, one for each transaction for the customer in that file"
   ]
  },
  {
   "cell_type": "code",
   "execution_count": 9,
   "metadata": {
    "execution": {
     "iopub.execute_input": "2021-02-02T03:57:18.543242Z",
     "iopub.status.busy": "2021-02-02T03:57:18.542147Z",
     "iopub.status.idle": "2021-02-02T03:57:18.570316Z",
     "shell.execute_reply": "2021-02-02T03:57:18.569878Z"
    }
   },
   "outputs": [
    {
     "data": {
      "text/plain": [
       "('{\"id\": 0, \"name\": \"Yvonne\", \"transactions\": [{\"transaction-id\": 1899, \"amount\": 94}, {\"transaction-id\": 2661, \"amount\": -72}, {\"transaction-id\": 3757, \"amount\": -54}, {\"transaction-id\": 4224, \"amount\": -20}, {\"transaction-id\": 4917, \"amount\": -19}, {\"transaction-id\": 5203, \"amount\": 28}, {\"transaction-id\": 5266, \"amount\": 0}, {\"transaction-id\": 7267, \"amount\": -87}, {\"transaction-id\": 7295, \"amount\": -36}, {\"transaction-id\": 7616, \"amount\": 24}, {\"transaction-id\": 7846, \"amount\": 14}, {\"transaction-id\": 8430, \"amount\": -25}, {\"transaction-id\": 9511, \"amount\": 28}, {\"transaction-id\": 9786, \"amount\": 29}]}\\n',\n",
       " '{\"id\": 1, \"name\": \"Yvonne\", \"transactions\": [{\"transaction-id\": 2739, \"amount\": 221}, {\"transaction-id\": 3374, \"amount\": 283}, {\"transaction-id\": 4307, \"amount\": 115}, {\"transaction-id\": 6428, \"amount\": 285}, {\"transaction-id\": 6884, \"amount\": 279}, {\"transaction-id\": 6986, \"amount\": 158}, {\"transaction-id\": 8460, \"amount\": 320}, {\"transaction-id\": 9123, \"amount\": 193}]}\\n',\n",
       " '{\"id\": 2, \"name\": \"Edith\", \"transactions\": [{\"transaction-id\": 4950, \"amount\": 406}, {\"transaction-id\": 7703, \"amount\": 391}]}\\n')"
      ]
     },
     "execution_count": 1,
     "metadata": {},
     "output_type": "execute_result"
    }
   ],
   "source": [
    "filename = os.path.join('data', 'accounts.*.json.gz')\n",
    "lines = db.read_text(filename)\n",
    "lines.take(3)"
   ]
  },
  {
   "cell_type": "markdown",
   "metadata": {},
   "source": [
    "Our data comes out of the file as lines of text. Notice that file decompression happened automatically. We can make this data look more reasonable by mapping the `json.loads` function onto our bag."
   ]
  },
  {
   "cell_type": "code",
   "execution_count": 10,
   "metadata": {
    "execution": {
     "iopub.execute_input": "2021-02-02T03:57:18.575462Z",
     "iopub.status.busy": "2021-02-02T03:57:18.574532Z",
     "iopub.status.idle": "2021-02-02T03:57:18.596152Z",
     "shell.execute_reply": "2021-02-02T03:57:18.596561Z"
    }
   },
   "outputs": [
    {
     "data": {
      "text/plain": [
       "({'id': 0,\n",
       "  'name': 'Yvonne',\n",
       "  'transactions': [{'transaction-id': 1899, 'amount': 94},\n",
       "   {'transaction-id': 2661, 'amount': -72},\n",
       "   {'transaction-id': 3757, 'amount': -54},\n",
       "   {'transaction-id': 4224, 'amount': -20},\n",
       "   {'transaction-id': 4917, 'amount': -19},\n",
       "   {'transaction-id': 5203, 'amount': 28},\n",
       "   {'transaction-id': 5266, 'amount': 0},\n",
       "   {'transaction-id': 7267, 'amount': -87},\n",
       "   {'transaction-id': 7295, 'amount': -36},\n",
       "   {'transaction-id': 7616, 'amount': 24},\n",
       "   {'transaction-id': 7846, 'amount': 14},\n",
       "   {'transaction-id': 8430, 'amount': -25},\n",
       "   {'transaction-id': 9511, 'amount': 28},\n",
       "   {'transaction-id': 9786, 'amount': 29}]},\n",
       " {'id': 1,\n",
       "  'name': 'Yvonne',\n",
       "  'transactions': [{'transaction-id': 2739, 'amount': 221},\n",
       "   {'transaction-id': 3374, 'amount': 283},\n",
       "   {'transaction-id': 4307, 'amount': 115},\n",
       "   {'transaction-id': 6428, 'amount': 285},\n",
       "   {'transaction-id': 6884, 'amount': 279},\n",
       "   {'transaction-id': 6986, 'amount': 158},\n",
       "   {'transaction-id': 8460, 'amount': 320},\n",
       "   {'transaction-id': 9123, 'amount': 193}]},\n",
       " {'id': 2,\n",
       "  'name': 'Edith',\n",
       "  'transactions': [{'transaction-id': 4950, 'amount': 406},\n",
       "   {'transaction-id': 7703, 'amount': 391}]})"
      ]
     },
     "execution_count": 1,
     "metadata": {},
     "output_type": "execute_result"
    }
   ],
   "source": [
    "import json\n",
    "js = lines.map(json.loads)\n",
    "# take: inspect first few elements\n",
    "js.take(3)"
   ]
  },
  {
   "cell_type": "markdown",
   "metadata": {},
   "source": [
    "### Basic Queries"
   ]
  },
  {
   "cell_type": "markdown",
   "metadata": {},
   "source": [
    "Once we parse our JSON data into proper Python objects (`dict`s, `list`s, etc.) we can perform more interesting queries by creating small Python functions to run on our data."
   ]
  },
  {
   "cell_type": "code",
   "execution_count": 11,
   "metadata": {
    "execution": {
     "iopub.execute_input": "2021-02-02T03:57:18.601419Z",
     "iopub.status.busy": "2021-02-02T03:57:18.600977Z",
     "iopub.status.idle": "2021-02-02T03:57:18.645401Z",
     "shell.execute_reply": "2021-02-02T03:57:18.644933Z"
    }
   },
   "outputs": [
    {
     "data": {
      "text/plain": [
       "({'id': 3,\n",
       "  'name': 'Alice',\n",
       "  'transactions': [{'transaction-id': 10, 'amount': 3812},\n",
       "   {'transaction-id': 126, 'amount': 3102},\n",
       "   {'transaction-id': 210, 'amount': 3579},\n",
       "   {'transaction-id': 258, 'amount': 3127},\n",
       "   {'transaction-id': 269, 'amount': 3878},\n",
       "   {'transaction-id': 315, 'amount': 3516},\n",
       "   {'transaction-id': 405, 'amount': 3398},\n",
       "   {'transaction-id': 428, 'amount': 3797},\n",
       "   {'transaction-id': 487, 'amount': 4016},\n",
       "   {'transaction-id': 536, 'amount': 4067},\n",
       "   {'transaction-id': 541, 'amount': 3869},\n",
       "   {'transaction-id': 627, 'amount': 3924},\n",
       "   {'transaction-id': 638, 'amount': 3832},\n",
       "   {'transaction-id': 785, 'amount': 3442},\n",
       "   {'transaction-id': 837, 'amount': 3739},\n",
       "   {'transaction-id': 860, 'amount': 3610},\n",
       "   {'transaction-id': 1148, 'amount': 3685},\n",
       "   {'transaction-id': 1239, 'amount': 3184},\n",
       "   {'transaction-id': 1240, 'amount': 4322},\n",
       "   {'transaction-id': 1249, 'amount': 3584},\n",
       "   {'transaction-id': 1258, 'amount': 3596},\n",
       "   {'transaction-id': 1442, 'amount': 3527},\n",
       "   {'transaction-id': 1513, 'amount': 4385},\n",
       "   {'transaction-id': 1596, 'amount': 3781},\n",
       "   {'transaction-id': 1609, 'amount': 3807},\n",
       "   {'transaction-id': 1646, 'amount': 3525},\n",
       "   {'transaction-id': 1678, 'amount': 4213},\n",
       "   {'transaction-id': 1871, 'amount': 4122},\n",
       "   {'transaction-id': 1872, 'amount': 3383},\n",
       "   {'transaction-id': 1892, 'amount': 4361},\n",
       "   {'transaction-id': 1934, 'amount': 3005},\n",
       "   {'transaction-id': 2025, 'amount': 4116},\n",
       "   {'transaction-id': 2031, 'amount': 3354},\n",
       "   {'transaction-id': 2145, 'amount': 4189},\n",
       "   {'transaction-id': 2172, 'amount': 4256},\n",
       "   {'transaction-id': 2346, 'amount': 3719},\n",
       "   {'transaction-id': 2364, 'amount': 4100},\n",
       "   {'transaction-id': 2443, 'amount': 4341},\n",
       "   {'transaction-id': 2453, 'amount': 3510},\n",
       "   {'transaction-id': 2454, 'amount': 3773},\n",
       "   {'transaction-id': 2470, 'amount': 4392},\n",
       "   {'transaction-id': 2505, 'amount': 3810},\n",
       "   {'transaction-id': 2543, 'amount': 4120},\n",
       "   {'transaction-id': 2598, 'amount': 3919},\n",
       "   {'transaction-id': 2631, 'amount': 3403},\n",
       "   {'transaction-id': 2640, 'amount': 4468},\n",
       "   {'transaction-id': 2645, 'amount': 3851},\n",
       "   {'transaction-id': 2685, 'amount': 2954},\n",
       "   {'transaction-id': 2709, 'amount': 4169},\n",
       "   {'transaction-id': 2746, 'amount': 4044},\n",
       "   {'transaction-id': 2963, 'amount': 3636},\n",
       "   {'transaction-id': 2968, 'amount': 3320},\n",
       "   {'transaction-id': 3093, 'amount': 3521},\n",
       "   {'transaction-id': 3154, 'amount': 3918},\n",
       "   {'transaction-id': 3276, 'amount': 3656},\n",
       "   {'transaction-id': 3312, 'amount': 3494},\n",
       "   {'transaction-id': 3368, 'amount': 3005},\n",
       "   {'transaction-id': 3386, 'amount': 3789},\n",
       "   {'transaction-id': 3469, 'amount': 3788},\n",
       "   {'transaction-id': 3558, 'amount': 4209},\n",
       "   {'transaction-id': 3602, 'amount': 3759},\n",
       "   {'transaction-id': 3604, 'amount': 4131},\n",
       "   {'transaction-id': 3608, 'amount': 3224},\n",
       "   {'transaction-id': 3628, 'amount': 4062},\n",
       "   {'transaction-id': 3637, 'amount': 3886},\n",
       "   {'transaction-id': 3662, 'amount': 3720},\n",
       "   {'transaction-id': 3973, 'amount': 3530},\n",
       "   {'transaction-id': 3987, 'amount': 3618},\n",
       "   {'transaction-id': 4063, 'amount': 4258},\n",
       "   {'transaction-id': 4116, 'amount': 3035},\n",
       "   {'transaction-id': 4129, 'amount': 3472},\n",
       "   {'transaction-id': 4134, 'amount': 4577},\n",
       "   {'transaction-id': 4142, 'amount': 4090},\n",
       "   {'transaction-id': 4173, 'amount': 3948},\n",
       "   {'transaction-id': 4244, 'amount': 3456},\n",
       "   {'transaction-id': 4257, 'amount': 3541},\n",
       "   {'transaction-id': 4326, 'amount': 4029},\n",
       "   {'transaction-id': 4329, 'amount': 3395},\n",
       "   {'transaction-id': 4334, 'amount': 3319},\n",
       "   {'transaction-id': 4397, 'amount': 3498},\n",
       "   {'transaction-id': 4431, 'amount': 3617},\n",
       "   {'transaction-id': 4445, 'amount': 3739},\n",
       "   {'transaction-id': 4483, 'amount': 3533},\n",
       "   {'transaction-id': 4504, 'amount': 4130},\n",
       "   {'transaction-id': 4522, 'amount': 4079},\n",
       "   {'transaction-id': 4546, 'amount': 4285},\n",
       "   {'transaction-id': 4574, 'amount': 3686},\n",
       "   {'transaction-id': 4743, 'amount': 3926},\n",
       "   {'transaction-id': 5015, 'amount': 3882},\n",
       "   {'transaction-id': 5091, 'amount': 3496},\n",
       "   {'transaction-id': 5105, 'amount': 3130},\n",
       "   {'transaction-id': 5115, 'amount': 3554},\n",
       "   {'transaction-id': 5149, 'amount': 3980},\n",
       "   {'transaction-id': 5175, 'amount': 4120},\n",
       "   {'transaction-id': 5182, 'amount': 3709},\n",
       "   {'transaction-id': 5310, 'amount': 3370},\n",
       "   {'transaction-id': 5312, 'amount': 3855},\n",
       "   {'transaction-id': 5381, 'amount': 3915},\n",
       "   {'transaction-id': 5409, 'amount': 3678},\n",
       "   {'transaction-id': 5432, 'amount': 3875},\n",
       "   {'transaction-id': 5502, 'amount': 3211},\n",
       "   {'transaction-id': 5545, 'amount': 3495},\n",
       "   {'transaction-id': 5593, 'amount': 3243},\n",
       "   {'transaction-id': 5614, 'amount': 3176},\n",
       "   {'transaction-id': 5624, 'amount': 4552},\n",
       "   {'transaction-id': 5647, 'amount': 3836},\n",
       "   {'transaction-id': 5697, 'amount': 4187},\n",
       "   {'transaction-id': 5712, 'amount': 4105},\n",
       "   {'transaction-id': 5803, 'amount': 4323},\n",
       "   {'transaction-id': 6058, 'amount': 3799},\n",
       "   {'transaction-id': 6084, 'amount': 3821},\n",
       "   {'transaction-id': 6093, 'amount': 3173},\n",
       "   {'transaction-id': 6169, 'amount': 3463},\n",
       "   {'transaction-id': 6188, 'amount': 3753},\n",
       "   {'transaction-id': 6216, 'amount': 3562},\n",
       "   {'transaction-id': 6287, 'amount': 3680},\n",
       "   {'transaction-id': 6452, 'amount': 3872},\n",
       "   {'transaction-id': 6543, 'amount': 3165},\n",
       "   {'transaction-id': 6650, 'amount': 4188},\n",
       "   {'transaction-id': 6669, 'amount': 3702},\n",
       "   {'transaction-id': 6734, 'amount': 3882},\n",
       "   {'transaction-id': 6747, 'amount': 3846},\n",
       "   {'transaction-id': 6770, 'amount': 4393},\n",
       "   {'transaction-id': 6850, 'amount': 3383},\n",
       "   {'transaction-id': 6859, 'amount': 4362},\n",
       "   {'transaction-id': 6868, 'amount': 3693},\n",
       "   {'transaction-id': 6886, 'amount': 3277},\n",
       "   {'transaction-id': 6892, 'amount': 3681},\n",
       "   {'transaction-id': 7061, 'amount': 3952},\n",
       "   {'transaction-id': 7171, 'amount': 4163},\n",
       "   {'transaction-id': 7361, 'amount': 4249},\n",
       "   {'transaction-id': 7377, 'amount': 3331},\n",
       "   {'transaction-id': 7399, 'amount': 3762},\n",
       "   {'transaction-id': 7456, 'amount': 3805},\n",
       "   {'transaction-id': 7487, 'amount': 3934},\n",
       "   {'transaction-id': 7683, 'amount': 3738},\n",
       "   {'transaction-id': 7724, 'amount': 3706},\n",
       "   {'transaction-id': 7731, 'amount': 3696},\n",
       "   {'transaction-id': 7776, 'amount': 4336},\n",
       "   {'transaction-id': 7891, 'amount': 3605},\n",
       "   {'transaction-id': 7893, 'amount': 4319},\n",
       "   {'transaction-id': 7903, 'amount': 4176},\n",
       "   {'transaction-id': 7939, 'amount': 3536},\n",
       "   {'transaction-id': 7991, 'amount': 4164},\n",
       "   {'transaction-id': 8018, 'amount': 2996},\n",
       "   {'transaction-id': 8079, 'amount': 3960},\n",
       "   {'transaction-id': 8099, 'amount': 3655},\n",
       "   {'transaction-id': 8149, 'amount': 3859},\n",
       "   {'transaction-id': 8271, 'amount': 3931},\n",
       "   {'transaction-id': 8314, 'amount': 3310},\n",
       "   {'transaction-id': 8318, 'amount': 3653},\n",
       "   {'transaction-id': 8342, 'amount': 3989},\n",
       "   {'transaction-id': 8404, 'amount': 4041},\n",
       "   {'transaction-id': 8412, 'amount': 3806},\n",
       "   {'transaction-id': 8416, 'amount': 3733},\n",
       "   {'transaction-id': 8445, 'amount': 3525},\n",
       "   {'transaction-id': 8464, 'amount': 3579},\n",
       "   {'transaction-id': 8466, 'amount': 4243},\n",
       "   {'transaction-id': 8515, 'amount': 3551},\n",
       "   {'transaction-id': 8556, 'amount': 3817},\n",
       "   {'transaction-id': 8646, 'amount': 3765},\n",
       "   {'transaction-id': 8663, 'amount': 4159},\n",
       "   {'transaction-id': 8794, 'amount': 4123},\n",
       "   {'transaction-id': 8881, 'amount': 3453},\n",
       "   {'transaction-id': 8922, 'amount': 4576},\n",
       "   {'transaction-id': 8947, 'amount': 3685},\n",
       "   {'transaction-id': 9008, 'amount': 4182},\n",
       "   {'transaction-id': 9018, 'amount': 2874},\n",
       "   {'transaction-id': 9019, 'amount': 3359},\n",
       "   {'transaction-id': 9053, 'amount': 3558},\n",
       "   {'transaction-id': 9114, 'amount': 3473},\n",
       "   {'transaction-id': 9186, 'amount': 3929},\n",
       "   {'transaction-id': 9215, 'amount': 3840},\n",
       "   {'transaction-id': 9222, 'amount': 3431},\n",
       "   {'transaction-id': 9246, 'amount': 3494},\n",
       "   {'transaction-id': 9406, 'amount': 3239},\n",
       "   {'transaction-id': 9443, 'amount': 3857},\n",
       "   {'transaction-id': 9457, 'amount': 4158},\n",
       "   {'transaction-id': 9487, 'amount': 3860},\n",
       "   {'transaction-id': 9621, 'amount': 4085},\n",
       "   {'transaction-id': 9755, 'amount': 3919},\n",
       "   {'transaction-id': 9773, 'amount': 4148},\n",
       "   {'transaction-id': 9776, 'amount': 3763},\n",
       "   {'transaction-id': 9848, 'amount': 3557},\n",
       "   {'transaction-id': 9856, 'amount': 3874},\n",
       "   {'transaction-id': 9904, 'amount': 2535},\n",
       "   {'transaction-id': 9955, 'amount': 3845}]},\n",
       " {'id': 58,\n",
       "  'name': 'Alice',\n",
       "  'transactions': [{'transaction-id': 983, 'amount': 9508},\n",
       "   {'transaction-id': 3262, 'amount': 9929},\n",
       "   {'transaction-id': 3953, 'amount': 9122},\n",
       "   {'transaction-id': 6257, 'amount': 8504},\n",
       "   {'transaction-id': 6567, 'amount': 9584},\n",
       "   {'transaction-id': 7307, 'amount': 9942}]},\n",
       " {'id': 65,\n",
       "  'name': 'Alice',\n",
       "  'transactions': [{'transaction-id': 371, 'amount': 963},\n",
       "   {'transaction-id': 544, 'amount': 729},\n",
       "   {'transaction-id': 682, 'amount': 909},\n",
       "   {'transaction-id': 1131, 'amount': 1142},\n",
       "   {'transaction-id': 1157, 'amount': 696},\n",
       "   {'transaction-id': 1339, 'amount': 704},\n",
       "   {'transaction-id': 1627, 'amount': 806},\n",
       "   {'transaction-id': 1677, 'amount': 902},\n",
       "   {'transaction-id': 2086, 'amount': 804},\n",
       "   {'transaction-id': 2148, 'amount': 1181},\n",
       "   {'transaction-id': 2368, 'amount': 602},\n",
       "   {'transaction-id': 2458, 'amount': 744},\n",
       "   {'transaction-id': 2514, 'amount': 646},\n",
       "   {'transaction-id': 2878, 'amount': 532},\n",
       "   {'transaction-id': 3033, 'amount': 812},\n",
       "   {'transaction-id': 3117, 'amount': 741},\n",
       "   {'transaction-id': 3760, 'amount': 869},\n",
       "   {'transaction-id': 3782, 'amount': 676},\n",
       "   {'transaction-id': 3948, 'amount': 325},\n",
       "   {'transaction-id': 4757, 'amount': 698},\n",
       "   {'transaction-id': 4991, 'amount': 841},\n",
       "   {'transaction-id': 5034, 'amount': 942},\n",
       "   {'transaction-id': 5557, 'amount': 615},\n",
       "   {'transaction-id': 5575, 'amount': 973},\n",
       "   {'transaction-id': 5703, 'amount': 860},\n",
       "   {'transaction-id': 6086, 'amount': 748},\n",
       "   {'transaction-id': 7020, 'amount': 803},\n",
       "   {'transaction-id': 7659, 'amount': 767},\n",
       "   {'transaction-id': 8400, 'amount': 587},\n",
       "   {'transaction-id': 9136, 'amount': 565},\n",
       "   {'transaction-id': 9204, 'amount': 656},\n",
       "   {'transaction-id': 9305, 'amount': 906},\n",
       "   {'transaction-id': 9588, 'amount': 631},\n",
       "   {'transaction-id': 9710, 'amount': 936}]},\n",
       " {'id': 80,\n",
       "  'name': 'Alice',\n",
       "  'transactions': [{'transaction-id': 1, 'amount': 564},\n",
       "   {'transaction-id': 87, 'amount': 526},\n",
       "   {'transaction-id': 343, 'amount': 485},\n",
       "   {'transaction-id': 370, 'amount': 468},\n",
       "   {'transaction-id': 483, 'amount': 555},\n",
       "   {'transaction-id': 555, 'amount': 437},\n",
       "   {'transaction-id': 783, 'amount': 483},\n",
       "   {'transaction-id': 857, 'amount': 515},\n",
       "   {'transaction-id': 988, 'amount': 495},\n",
       "   {'transaction-id': 1023, 'amount': 448},\n",
       "   {'transaction-id': 1112, 'amount': 443},\n",
       "   {'transaction-id': 1696, 'amount': 453},\n",
       "   {'transaction-id': 1951, 'amount': 463},\n",
       "   {'transaction-id': 2050, 'amount': 493},\n",
       "   {'transaction-id': 2347, 'amount': 476},\n",
       "   {'transaction-id': 2369, 'amount': 484},\n",
       "   {'transaction-id': 2577, 'amount': 434},\n",
       "   {'transaction-id': 2714, 'amount': 463},\n",
       "   {'transaction-id': 2864, 'amount': 450},\n",
       "   {'transaction-id': 2872, 'amount': 523},\n",
       "   {'transaction-id': 3083, 'amount': 485},\n",
       "   {'transaction-id': 3103, 'amount': 453},\n",
       "   {'transaction-id': 3192, 'amount': 474},\n",
       "   {'transaction-id': 3266, 'amount': 492},\n",
       "   {'transaction-id': 3305, 'amount': 451},\n",
       "   {'transaction-id': 3343, 'amount': 433},\n",
       "   {'transaction-id': 3433, 'amount': 421},\n",
       "   {'transaction-id': 3654, 'amount': 424},\n",
       "   {'transaction-id': 3809, 'amount': 471},\n",
       "   {'transaction-id': 3951, 'amount': 458},\n",
       "   {'transaction-id': 3962, 'amount': 410},\n",
       "   {'transaction-id': 4046, 'amount': 463},\n",
       "   {'transaction-id': 4203, 'amount': 484},\n",
       "   {'transaction-id': 4299, 'amount': 435},\n",
       "   {'transaction-id': 4382, 'amount': 433},\n",
       "   {'transaction-id': 4519, 'amount': 472},\n",
       "   {'transaction-id': 4593, 'amount': 451},\n",
       "   {'transaction-id': 4656, 'amount': 449},\n",
       "   {'transaction-id': 4677, 'amount': 429},\n",
       "   {'transaction-id': 4844, 'amount': 512},\n",
       "   {'transaction-id': 4926, 'amount': 459},\n",
       "   {'transaction-id': 5272, 'amount': 420},\n",
       "   {'transaction-id': 5343, 'amount': 442},\n",
       "   {'transaction-id': 5413, 'amount': 462},\n",
       "   {'transaction-id': 5517, 'amount': 414},\n",
       "   {'transaction-id': 5559, 'amount': 429},\n",
       "   {'transaction-id': 5911, 'amount': 466},\n",
       "   {'transaction-id': 6092, 'amount': 418},\n",
       "   {'transaction-id': 6129, 'amount': 462},\n",
       "   {'transaction-id': 6137, 'amount': 480},\n",
       "   {'transaction-id': 6408, 'amount': 483},\n",
       "   {'transaction-id': 6464, 'amount': 433},\n",
       "   {'transaction-id': 6542, 'amount': 455},\n",
       "   {'transaction-id': 6560, 'amount': 481},\n",
       "   {'transaction-id': 6721, 'amount': 444},\n",
       "   {'transaction-id': 6785, 'amount': 467},\n",
       "   {'transaction-id': 6875, 'amount': 476},\n",
       "   {'transaction-id': 7001, 'amount': 462},\n",
       "   {'transaction-id': 7038, 'amount': 477},\n",
       "   {'transaction-id': 7108, 'amount': 476},\n",
       "   {'transaction-id': 7217, 'amount': 445},\n",
       "   {'transaction-id': 7266, 'amount': 483},\n",
       "   {'transaction-id': 7594, 'amount': 415},\n",
       "   {'transaction-id': 7713, 'amount': 499},\n",
       "   {'transaction-id': 7736, 'amount': 435},\n",
       "   {'transaction-id': 7818, 'amount': 437},\n",
       "   {'transaction-id': 8128, 'amount': 466},\n",
       "   {'transaction-id': 8173, 'amount': 433},\n",
       "   {'transaction-id': 8222, 'amount': 441},\n",
       "   {'transaction-id': 8269, 'amount': 458},\n",
       "   {'transaction-id': 8570, 'amount': 418},\n",
       "   {'transaction-id': 8571, 'amount': 426},\n",
       "   {'transaction-id': 8776, 'amount': 419},\n",
       "   {'transaction-id': 8827, 'amount': 394},\n",
       "   {'transaction-id': 8828, 'amount': 449},\n",
       "   {'transaction-id': 8889, 'amount': 436},\n",
       "   {'transaction-id': 9000, 'amount': 465},\n",
       "   {'transaction-id': 9203, 'amount': 465},\n",
       "   {'transaction-id': 9224, 'amount': 478},\n",
       "   {'transaction-id': 9238, 'amount': 420},\n",
       "   {'transaction-id': 9274, 'amount': 511},\n",
       "   {'transaction-id': 9278, 'amount': 402},\n",
       "   {'transaction-id': 9480, 'amount': 349},\n",
       "   {'transaction-id': 9870, 'amount': 448},\n",
       "   {'transaction-id': 9992, 'amount': 487}]},\n",
       " {'id': 108,\n",
       "  'name': 'Alice',\n",
       "  'transactions': [{'transaction-id': 229, 'amount': 3576},\n",
       "   {'transaction-id': 1324, 'amount': 3191},\n",
       "   {'transaction-id': 1417, 'amount': 3003},\n",
       "   {'transaction-id': 2004, 'amount': 3078},\n",
       "   {'transaction-id': 2672, 'amount': 3433},\n",
       "   {'transaction-id': 3845, 'amount': 3361},\n",
       "   {'transaction-id': 4346, 'amount': 3530},\n",
       "   {'transaction-id': 5033, 'amount': 3101},\n",
       "   {'transaction-id': 5145, 'amount': 3463},\n",
       "   {'transaction-id': 5430, 'amount': 3292},\n",
       "   {'transaction-id': 5879, 'amount': 3228},\n",
       "   {'transaction-id': 6806, 'amount': 3168},\n",
       "   {'transaction-id': 7265, 'amount': 3334},\n",
       "   {'transaction-id': 7342, 'amount': 3359},\n",
       "   {'transaction-id': 7546, 'amount': 3192},\n",
       "   {'transaction-id': 8045, 'amount': 3268},\n",
       "   {'transaction-id': 8777, 'amount': 3215},\n",
       "   {'transaction-id': 8858, 'amount': 3321},\n",
       "   {'transaction-id': 8962, 'amount': 3193}]})"
      ]
     },
     "execution_count": 1,
     "metadata": {},
     "output_type": "execute_result"
    }
   ],
   "source": [
    "# filter: keep only some elements of the sequence\n",
    "js.filter(lambda record: record['name'] == 'Alice').take(5)"
   ]
  },
  {
   "cell_type": "code",
   "execution_count": 12,
   "metadata": {
    "execution": {
     "iopub.execute_input": "2021-02-02T03:57:18.652361Z",
     "iopub.status.busy": "2021-02-02T03:57:18.649697Z",
     "iopub.status.idle": "2021-02-02T03:57:18.669281Z",
     "shell.execute_reply": "2021-02-02T03:57:18.668706Z"
    }
   },
   "outputs": [
    {
     "data": {
      "text/plain": [
       "({'name': 'Alice', 'count': 187},\n",
       " {'name': 'Alice', 'count': 6},\n",
       " {'name': 'Alice', 'count': 34},\n",
       " {'name': 'Alice', 'count': 85},\n",
       " {'name': 'Alice', 'count': 19})"
      ]
     },
     "execution_count": 1,
     "metadata": {},
     "output_type": "execute_result"
    }
   ],
   "source": [
    "def count_transactions(d):\n",
    "    return {'name': d['name'], 'count': len(d['transactions'])}\n",
    "\n",
    "# map: apply a function to each element\n",
    "(js.filter(lambda record: record['name'] == 'Alice')\n",
    "   .map(count_transactions)\n",
    "   .take(5))"
   ]
  },
  {
   "cell_type": "code",
   "execution_count": 13,
   "metadata": {
    "execution": {
     "iopub.execute_input": "2021-02-02T03:57:18.673681Z",
     "iopub.status.busy": "2021-02-02T03:57:18.673200Z",
     "iopub.status.idle": "2021-02-02T03:57:18.691781Z",
     "shell.execute_reply": "2021-02-02T03:57:18.691350Z"
    }
   },
   "outputs": [
    {
     "data": {
      "text/plain": [
       "(187, 6, 34, 85, 19)"
      ]
     },
     "execution_count": 1,
     "metadata": {},
     "output_type": "execute_result"
    }
   ],
   "source": [
    "# pluck: select a field, as from a dictionary, element[field]\n",
    "(js.filter(lambda record: record['name'] == 'Alice')\n",
    "   .map(count_transactions)\n",
    "   .pluck('count')\n",
    "   .take(5))"
   ]
  },
  {
   "cell_type": "code",
   "execution_count": 14,
   "metadata": {
    "execution": {
     "iopub.execute_input": "2021-02-02T03:57:18.721141Z",
     "iopub.status.busy": "2021-02-02T03:57:18.713256Z",
     "iopub.status.idle": "2021-02-02T03:57:19.122447Z",
     "shell.execute_reply": "2021-02-02T03:57:19.122002Z"
    }
   },
   "outputs": [
    {
     "data": {
      "text/plain": [
       "48.17550274223035"
      ]
     },
     "execution_count": 1,
     "metadata": {},
     "output_type": "execute_result"
    }
   ],
   "source": [
    "# Average number of transactions for all of the Alice entries\n",
    "(js.filter(lambda record: record['name'] == 'Alice')\n",
    "   .map(count_transactions)\n",
    "   .pluck('count')\n",
    "   .mean()\n",
    "   .compute())"
   ]
  },
  {
   "cell_type": "markdown",
   "metadata": {},
   "source": [
    "### Use `flatten` to de-nest"
   ]
  },
  {
   "cell_type": "markdown",
   "metadata": {},
   "source": [
    "In the example below we see the use of `.flatten()` to flatten results.  We compute the average amount for all transactions for all Alices."
   ]
  },
  {
   "cell_type": "code",
   "execution_count": 15,
   "metadata": {
    "execution": {
     "iopub.execute_input": "2021-02-02T03:57:19.127478Z",
     "iopub.status.busy": "2021-02-02T03:57:19.126491Z",
     "iopub.status.idle": "2021-02-02T03:57:19.167009Z",
     "shell.execute_reply": "2021-02-02T03:57:19.167697Z"
    }
   },
   "outputs": [
    {
     "data": {
      "text/plain": [
       "([{'transaction-id': 10, 'amount': 3812},\n",
       "  {'transaction-id': 126, 'amount': 3102},\n",
       "  {'transaction-id': 210, 'amount': 3579},\n",
       "  {'transaction-id': 258, 'amount': 3127},\n",
       "  {'transaction-id': 269, 'amount': 3878},\n",
       "  {'transaction-id': 315, 'amount': 3516},\n",
       "  {'transaction-id': 405, 'amount': 3398},\n",
       "  {'transaction-id': 428, 'amount': 3797},\n",
       "  {'transaction-id': 487, 'amount': 4016},\n",
       "  {'transaction-id': 536, 'amount': 4067},\n",
       "  {'transaction-id': 541, 'amount': 3869},\n",
       "  {'transaction-id': 627, 'amount': 3924},\n",
       "  {'transaction-id': 638, 'amount': 3832},\n",
       "  {'transaction-id': 785, 'amount': 3442},\n",
       "  {'transaction-id': 837, 'amount': 3739},\n",
       "  {'transaction-id': 860, 'amount': 3610},\n",
       "  {'transaction-id': 1148, 'amount': 3685},\n",
       "  {'transaction-id': 1239, 'amount': 3184},\n",
       "  {'transaction-id': 1240, 'amount': 4322},\n",
       "  {'transaction-id': 1249, 'amount': 3584},\n",
       "  {'transaction-id': 1258, 'amount': 3596},\n",
       "  {'transaction-id': 1442, 'amount': 3527},\n",
       "  {'transaction-id': 1513, 'amount': 4385},\n",
       "  {'transaction-id': 1596, 'amount': 3781},\n",
       "  {'transaction-id': 1609, 'amount': 3807},\n",
       "  {'transaction-id': 1646, 'amount': 3525},\n",
       "  {'transaction-id': 1678, 'amount': 4213},\n",
       "  {'transaction-id': 1871, 'amount': 4122},\n",
       "  {'transaction-id': 1872, 'amount': 3383},\n",
       "  {'transaction-id': 1892, 'amount': 4361},\n",
       "  {'transaction-id': 1934, 'amount': 3005},\n",
       "  {'transaction-id': 2025, 'amount': 4116},\n",
       "  {'transaction-id': 2031, 'amount': 3354},\n",
       "  {'transaction-id': 2145, 'amount': 4189},\n",
       "  {'transaction-id': 2172, 'amount': 4256},\n",
       "  {'transaction-id': 2346, 'amount': 3719},\n",
       "  {'transaction-id': 2364, 'amount': 4100},\n",
       "  {'transaction-id': 2443, 'amount': 4341},\n",
       "  {'transaction-id': 2453, 'amount': 3510},\n",
       "  {'transaction-id': 2454, 'amount': 3773},\n",
       "  {'transaction-id': 2470, 'amount': 4392},\n",
       "  {'transaction-id': 2505, 'amount': 3810},\n",
       "  {'transaction-id': 2543, 'amount': 4120},\n",
       "  {'transaction-id': 2598, 'amount': 3919},\n",
       "  {'transaction-id': 2631, 'amount': 3403},\n",
       "  {'transaction-id': 2640, 'amount': 4468},\n",
       "  {'transaction-id': 2645, 'amount': 3851},\n",
       "  {'transaction-id': 2685, 'amount': 2954},\n",
       "  {'transaction-id': 2709, 'amount': 4169},\n",
       "  {'transaction-id': 2746, 'amount': 4044},\n",
       "  {'transaction-id': 2963, 'amount': 3636},\n",
       "  {'transaction-id': 2968, 'amount': 3320},\n",
       "  {'transaction-id': 3093, 'amount': 3521},\n",
       "  {'transaction-id': 3154, 'amount': 3918},\n",
       "  {'transaction-id': 3276, 'amount': 3656},\n",
       "  {'transaction-id': 3312, 'amount': 3494},\n",
       "  {'transaction-id': 3368, 'amount': 3005},\n",
       "  {'transaction-id': 3386, 'amount': 3789},\n",
       "  {'transaction-id': 3469, 'amount': 3788},\n",
       "  {'transaction-id': 3558, 'amount': 4209},\n",
       "  {'transaction-id': 3602, 'amount': 3759},\n",
       "  {'transaction-id': 3604, 'amount': 4131},\n",
       "  {'transaction-id': 3608, 'amount': 3224},\n",
       "  {'transaction-id': 3628, 'amount': 4062},\n",
       "  {'transaction-id': 3637, 'amount': 3886},\n",
       "  {'transaction-id': 3662, 'amount': 3720},\n",
       "  {'transaction-id': 3973, 'amount': 3530},\n",
       "  {'transaction-id': 3987, 'amount': 3618},\n",
       "  {'transaction-id': 4063, 'amount': 4258},\n",
       "  {'transaction-id': 4116, 'amount': 3035},\n",
       "  {'transaction-id': 4129, 'amount': 3472},\n",
       "  {'transaction-id': 4134, 'amount': 4577},\n",
       "  {'transaction-id': 4142, 'amount': 4090},\n",
       "  {'transaction-id': 4173, 'amount': 3948},\n",
       "  {'transaction-id': 4244, 'amount': 3456},\n",
       "  {'transaction-id': 4257, 'amount': 3541},\n",
       "  {'transaction-id': 4326, 'amount': 4029},\n",
       "  {'transaction-id': 4329, 'amount': 3395},\n",
       "  {'transaction-id': 4334, 'amount': 3319},\n",
       "  {'transaction-id': 4397, 'amount': 3498},\n",
       "  {'transaction-id': 4431, 'amount': 3617},\n",
       "  {'transaction-id': 4445, 'amount': 3739},\n",
       "  {'transaction-id': 4483, 'amount': 3533},\n",
       "  {'transaction-id': 4504, 'amount': 4130},\n",
       "  {'transaction-id': 4522, 'amount': 4079},\n",
       "  {'transaction-id': 4546, 'amount': 4285},\n",
       "  {'transaction-id': 4574, 'amount': 3686},\n",
       "  {'transaction-id': 4743, 'amount': 3926},\n",
       "  {'transaction-id': 5015, 'amount': 3882},\n",
       "  {'transaction-id': 5091, 'amount': 3496},\n",
       "  {'transaction-id': 5105, 'amount': 3130},\n",
       "  {'transaction-id': 5115, 'amount': 3554},\n",
       "  {'transaction-id': 5149, 'amount': 3980},\n",
       "  {'transaction-id': 5175, 'amount': 4120},\n",
       "  {'transaction-id': 5182, 'amount': 3709},\n",
       "  {'transaction-id': 5310, 'amount': 3370},\n",
       "  {'transaction-id': 5312, 'amount': 3855},\n",
       "  {'transaction-id': 5381, 'amount': 3915},\n",
       "  {'transaction-id': 5409, 'amount': 3678},\n",
       "  {'transaction-id': 5432, 'amount': 3875},\n",
       "  {'transaction-id': 5502, 'amount': 3211},\n",
       "  {'transaction-id': 5545, 'amount': 3495},\n",
       "  {'transaction-id': 5593, 'amount': 3243},\n",
       "  {'transaction-id': 5614, 'amount': 3176},\n",
       "  {'transaction-id': 5624, 'amount': 4552},\n",
       "  {'transaction-id': 5647, 'amount': 3836},\n",
       "  {'transaction-id': 5697, 'amount': 4187},\n",
       "  {'transaction-id': 5712, 'amount': 4105},\n",
       "  {'transaction-id': 5803, 'amount': 4323},\n",
       "  {'transaction-id': 6058, 'amount': 3799},\n",
       "  {'transaction-id': 6084, 'amount': 3821},\n",
       "  {'transaction-id': 6093, 'amount': 3173},\n",
       "  {'transaction-id': 6169, 'amount': 3463},\n",
       "  {'transaction-id': 6188, 'amount': 3753},\n",
       "  {'transaction-id': 6216, 'amount': 3562},\n",
       "  {'transaction-id': 6287, 'amount': 3680},\n",
       "  {'transaction-id': 6452, 'amount': 3872},\n",
       "  {'transaction-id': 6543, 'amount': 3165},\n",
       "  {'transaction-id': 6650, 'amount': 4188},\n",
       "  {'transaction-id': 6669, 'amount': 3702},\n",
       "  {'transaction-id': 6734, 'amount': 3882},\n",
       "  {'transaction-id': 6747, 'amount': 3846},\n",
       "  {'transaction-id': 6770, 'amount': 4393},\n",
       "  {'transaction-id': 6850, 'amount': 3383},\n",
       "  {'transaction-id': 6859, 'amount': 4362},\n",
       "  {'transaction-id': 6868, 'amount': 3693},\n",
       "  {'transaction-id': 6886, 'amount': 3277},\n",
       "  {'transaction-id': 6892, 'amount': 3681},\n",
       "  {'transaction-id': 7061, 'amount': 3952},\n",
       "  {'transaction-id': 7171, 'amount': 4163},\n",
       "  {'transaction-id': 7361, 'amount': 4249},\n",
       "  {'transaction-id': 7377, 'amount': 3331},\n",
       "  {'transaction-id': 7399, 'amount': 3762},\n",
       "  {'transaction-id': 7456, 'amount': 3805},\n",
       "  {'transaction-id': 7487, 'amount': 3934},\n",
       "  {'transaction-id': 7683, 'amount': 3738},\n",
       "  {'transaction-id': 7724, 'amount': 3706},\n",
       "  {'transaction-id': 7731, 'amount': 3696},\n",
       "  {'transaction-id': 7776, 'amount': 4336},\n",
       "  {'transaction-id': 7891, 'amount': 3605},\n",
       "  {'transaction-id': 7893, 'amount': 4319},\n",
       "  {'transaction-id': 7903, 'amount': 4176},\n",
       "  {'transaction-id': 7939, 'amount': 3536},\n",
       "  {'transaction-id': 7991, 'amount': 4164},\n",
       "  {'transaction-id': 8018, 'amount': 2996},\n",
       "  {'transaction-id': 8079, 'amount': 3960},\n",
       "  {'transaction-id': 8099, 'amount': 3655},\n",
       "  {'transaction-id': 8149, 'amount': 3859},\n",
       "  {'transaction-id': 8271, 'amount': 3931},\n",
       "  {'transaction-id': 8314, 'amount': 3310},\n",
       "  {'transaction-id': 8318, 'amount': 3653},\n",
       "  {'transaction-id': 8342, 'amount': 3989},\n",
       "  {'transaction-id': 8404, 'amount': 4041},\n",
       "  {'transaction-id': 8412, 'amount': 3806},\n",
       "  {'transaction-id': 8416, 'amount': 3733},\n",
       "  {'transaction-id': 8445, 'amount': 3525},\n",
       "  {'transaction-id': 8464, 'amount': 3579},\n",
       "  {'transaction-id': 8466, 'amount': 4243},\n",
       "  {'transaction-id': 8515, 'amount': 3551},\n",
       "  {'transaction-id': 8556, 'amount': 3817},\n",
       "  {'transaction-id': 8646, 'amount': 3765},\n",
       "  {'transaction-id': 8663, 'amount': 4159},\n",
       "  {'transaction-id': 8794, 'amount': 4123},\n",
       "  {'transaction-id': 8881, 'amount': 3453},\n",
       "  {'transaction-id': 8922, 'amount': 4576},\n",
       "  {'transaction-id': 8947, 'amount': 3685},\n",
       "  {'transaction-id': 9008, 'amount': 4182},\n",
       "  {'transaction-id': 9018, 'amount': 2874},\n",
       "  {'transaction-id': 9019, 'amount': 3359},\n",
       "  {'transaction-id': 9053, 'amount': 3558},\n",
       "  {'transaction-id': 9114, 'amount': 3473},\n",
       "  {'transaction-id': 9186, 'amount': 3929},\n",
       "  {'transaction-id': 9215, 'amount': 3840},\n",
       "  {'transaction-id': 9222, 'amount': 3431},\n",
       "  {'transaction-id': 9246, 'amount': 3494},\n",
       "  {'transaction-id': 9406, 'amount': 3239},\n",
       "  {'transaction-id': 9443, 'amount': 3857},\n",
       "  {'transaction-id': 9457, 'amount': 4158},\n",
       "  {'transaction-id': 9487, 'amount': 3860},\n",
       "  {'transaction-id': 9621, 'amount': 4085},\n",
       "  {'transaction-id': 9755, 'amount': 3919},\n",
       "  {'transaction-id': 9773, 'amount': 4148},\n",
       "  {'transaction-id': 9776, 'amount': 3763},\n",
       "  {'transaction-id': 9848, 'amount': 3557},\n",
       "  {'transaction-id': 9856, 'amount': 3874},\n",
       "  {'transaction-id': 9904, 'amount': 2535},\n",
       "  {'transaction-id': 9955, 'amount': 3845}],\n",
       " [{'transaction-id': 983, 'amount': 9508},\n",
       "  {'transaction-id': 3262, 'amount': 9929},\n",
       "  {'transaction-id': 3953, 'amount': 9122},\n",
       "  {'transaction-id': 6257, 'amount': 8504},\n",
       "  {'transaction-id': 6567, 'amount': 9584},\n",
       "  {'transaction-id': 7307, 'amount': 9942}],\n",
       " [{'transaction-id': 371, 'amount': 963},\n",
       "  {'transaction-id': 544, 'amount': 729},\n",
       "  {'transaction-id': 682, 'amount': 909},\n",
       "  {'transaction-id': 1131, 'amount': 1142},\n",
       "  {'transaction-id': 1157, 'amount': 696},\n",
       "  {'transaction-id': 1339, 'amount': 704},\n",
       "  {'transaction-id': 1627, 'amount': 806},\n",
       "  {'transaction-id': 1677, 'amount': 902},\n",
       "  {'transaction-id': 2086, 'amount': 804},\n",
       "  {'transaction-id': 2148, 'amount': 1181},\n",
       "  {'transaction-id': 2368, 'amount': 602},\n",
       "  {'transaction-id': 2458, 'amount': 744},\n",
       "  {'transaction-id': 2514, 'amount': 646},\n",
       "  {'transaction-id': 2878, 'amount': 532},\n",
       "  {'transaction-id': 3033, 'amount': 812},\n",
       "  {'transaction-id': 3117, 'amount': 741},\n",
       "  {'transaction-id': 3760, 'amount': 869},\n",
       "  {'transaction-id': 3782, 'amount': 676},\n",
       "  {'transaction-id': 3948, 'amount': 325},\n",
       "  {'transaction-id': 4757, 'amount': 698},\n",
       "  {'transaction-id': 4991, 'amount': 841},\n",
       "  {'transaction-id': 5034, 'amount': 942},\n",
       "  {'transaction-id': 5557, 'amount': 615},\n",
       "  {'transaction-id': 5575, 'amount': 973},\n",
       "  {'transaction-id': 5703, 'amount': 860},\n",
       "  {'transaction-id': 6086, 'amount': 748},\n",
       "  {'transaction-id': 7020, 'amount': 803},\n",
       "  {'transaction-id': 7659, 'amount': 767},\n",
       "  {'transaction-id': 8400, 'amount': 587},\n",
       "  {'transaction-id': 9136, 'amount': 565},\n",
       "  {'transaction-id': 9204, 'amount': 656},\n",
       "  {'transaction-id': 9305, 'amount': 906},\n",
       "  {'transaction-id': 9588, 'amount': 631},\n",
       "  {'transaction-id': 9710, 'amount': 936}])"
      ]
     },
     "execution_count": 1,
     "metadata": {},
     "output_type": "execute_result"
    }
   ],
   "source": [
    "(js.filter(lambda record: record['name'] == 'Alice')\n",
    "   .pluck('transactions')\n",
    "   .take(3))"
   ]
  },
  {
   "cell_type": "code",
   "execution_count": 16,
   "metadata": {
    "execution": {
     "iopub.execute_input": "2021-02-02T03:57:19.175704Z",
     "iopub.status.busy": "2021-02-02T03:57:19.173312Z",
     "iopub.status.idle": "2021-02-02T03:57:19.190322Z",
     "shell.execute_reply": "2021-02-02T03:57:19.189494Z"
    }
   },
   "outputs": [
    {
     "data": {
      "text/plain": [
       "({'transaction-id': 10, 'amount': 3812},\n",
       " {'transaction-id': 126, 'amount': 3102},\n",
       " {'transaction-id': 210, 'amount': 3579})"
      ]
     },
     "execution_count": 1,
     "metadata": {},
     "output_type": "execute_result"
    }
   ],
   "source": [
    "(js.filter(lambda record: record['name'] == 'Alice')\n",
    "   .pluck('transactions')\n",
    "   .flatten()\n",
    "   .take(3))"
   ]
  },
  {
   "cell_type": "code",
   "execution_count": 17,
   "metadata": {
    "execution": {
     "iopub.execute_input": "2021-02-02T03:57:19.196043Z",
     "iopub.status.busy": "2021-02-02T03:57:19.194916Z",
     "iopub.status.idle": "2021-02-02T03:57:19.211654Z",
     "shell.execute_reply": "2021-02-02T03:57:19.211027Z"
    }
   },
   "outputs": [
    {
     "data": {
      "text/plain": [
       "(3812, 3102, 3579)"
      ]
     },
     "execution_count": 1,
     "metadata": {},
     "output_type": "execute_result"
    }
   ],
   "source": [
    "(js.filter(lambda record: record['name'] == 'Alice')\n",
    "   .pluck('transactions')\n",
    "   .flatten()\n",
    "   .pluck('amount')\n",
    "   .take(3))"
   ]
  },
  {
   "cell_type": "code",
   "execution_count": 18,
   "metadata": {
    "execution": {
     "iopub.execute_input": "2021-02-02T03:57:19.221609Z",
     "iopub.status.busy": "2021-02-02T03:57:19.215753Z",
     "iopub.status.idle": "2021-02-02T03:57:19.634426Z",
     "shell.execute_reply": "2021-02-02T03:57:19.633759Z"
    }
   },
   "outputs": [
    {
     "data": {
      "text/plain": [
       "1815.8027094717668"
      ]
     },
     "execution_count": 1,
     "metadata": {},
     "output_type": "execute_result"
    }
   ],
   "source": [
    "(js.filter(lambda record: record['name'] == 'Alice')\n",
    "   .pluck('transactions')\n",
    "   .flatten()\n",
    "   .pluck('amount')\n",
    "   .mean()\n",
    "   .compute())"
   ]
  },
  {
   "cell_type": "markdown",
   "metadata": {},
   "source": [
    "### Groupby and Foldby"
   ]
  },
  {
   "cell_type": "markdown",
   "metadata": {},
   "source": [
    "Often we want to group data by some function or key.  We can do this either with the `.groupby` method, which is straightforward but forces a full shuffle of the data (expensive) or with the harder-to-use but faster `.foldby` method, which does a streaming combined groupby and reduction.\n",
    "\n",
    "*  `groupby`:  Shuffles data so that all items with the same key are in the same key-value pair\n",
    "*  `foldby`:  Walks through the data accumulating a result per key\n",
    "\n",
    "*Note: the full groupby is particularly bad. In actual workloads you would do well to use `foldby` or switch to `DataFrame`s if possible.*"
   ]
  },
  {
   "cell_type": "markdown",
   "metadata": {},
   "source": [
    "### `groupby`"
   ]
  },
  {
   "cell_type": "markdown",
   "metadata": {},
   "source": [
    "Groupby collects items in your collection so that all items with the same value under some function are collected together into a key-value pair."
   ]
  },
  {
   "cell_type": "code",
   "execution_count": 19,
   "metadata": {
    "execution": {
     "iopub.execute_input": "2021-02-02T03:57:19.637392Z",
     "iopub.status.busy": "2021-02-02T03:57:19.636889Z",
     "iopub.status.idle": "2021-02-02T03:57:19.734102Z",
     "shell.execute_reply": "2021-02-02T03:57:19.732037Z"
    }
   },
   "outputs": [
    {
     "data": {
      "text/plain": [
       "[(7, ['Charlie']), (3, ['Bob', 'Dan']), (5, ['Alice', 'Edith', 'Frank'])]"
      ]
     },
     "execution_count": 1,
     "metadata": {},
     "output_type": "execute_result"
    }
   ],
   "source": [
    "b = db.from_sequence(['Alice', 'Bob', 'Charlie', 'Dan', 'Edith', 'Frank'])\n",
    "b.groupby(len).compute()  # names grouped by length"
   ]
  },
  {
   "cell_type": "code",
   "execution_count": 20,
   "metadata": {
    "execution": {
     "iopub.execute_input": "2021-02-02T03:57:19.750835Z",
     "iopub.status.busy": "2021-02-02T03:57:19.746593Z",
     "iopub.status.idle": "2021-02-02T03:57:19.899468Z",
     "shell.execute_reply": "2021-02-02T03:57:19.898894Z"
    }
   },
   "outputs": [
    {
     "data": {
      "text/plain": [
       "[(0, [0, 2, 4, 6, 8]), (1, [1, 3, 5, 7, 9])]"
      ]
     },
     "execution_count": 1,
     "metadata": {},
     "output_type": "execute_result"
    }
   ],
   "source": [
    "b = db.from_sequence(list(range(10)))\n",
    "b.groupby(lambda x: x % 2).compute()"
   ]
  },
  {
   "cell_type": "code",
   "execution_count": 21,
   "metadata": {
    "execution": {
     "iopub.execute_input": "2021-02-02T03:57:19.918223Z",
     "iopub.status.busy": "2021-02-02T03:57:19.916848Z",
     "iopub.status.idle": "2021-02-02T03:57:20.078134Z",
     "shell.execute_reply": "2021-02-02T03:57:20.077669Z"
    }
   },
   "outputs": [
    {
     "data": {
      "text/plain": [
       "[(0, 8), (1, 9)]"
      ]
     },
     "execution_count": 1,
     "metadata": {},
     "output_type": "execute_result"
    }
   ],
   "source": [
    "b.groupby(lambda x: x % 2).starmap(lambda k, v: (k, max(v))).compute()"
   ]
  },
  {
   "cell_type": "markdown",
   "metadata": {},
   "source": [
    "### `foldby`"
   ]
  },
  {
   "cell_type": "markdown",
   "metadata": {},
   "source": [
    "Foldby can be quite odd at first.  It is similar to the following functions from other libraries:\n",
    "\n",
    "*  [`toolz.reduceby`](http://toolz.readthedocs.io/en/latest/streaming-analytics.html#streaming-split-apply-combine)\n",
    "*  [`pyspark.RDD.combineByKey`](http://abshinn.github.io/python/apache-spark/2014/10/11/using-combinebykey-in-apache-spark/)\n",
    "\n",
    "When using `foldby` you provide \n",
    "\n",
    "1.  A key function on which to group elements\n",
    "2.  A binary operator such as you would pass to `reduce` that you use to perform reduction per each group\n",
    "3.  A combine binary operator that can combine the results of two `reduce` calls on different parts of your dataset.\n",
    "\n",
    "Your reduction must be associative.  It will happen in parallel in each of the partitions of your dataset.  Then all of these intermediate results will be combined by the `combine` binary operator."
   ]
  },
  {
   "cell_type": "code",
   "execution_count": 22,
   "metadata": {
    "execution": {
     "iopub.execute_input": "2021-02-02T03:57:20.085131Z",
     "iopub.status.busy": "2021-02-02T03:57:20.083834Z",
     "iopub.status.idle": "2021-02-02T03:57:20.142017Z",
     "shell.execute_reply": "2021-02-02T03:57:20.141411Z"
    }
   },
   "outputs": [
    {
     "data": {
      "text/plain": [
       "[(0, 8), (1, 9)]"
      ]
     },
     "execution_count": 1,
     "metadata": {},
     "output_type": "execute_result"
    }
   ],
   "source": [
    "b.foldby(lambda x: x % 2, binop=max, combine=max).compute()"
   ]
  },
  {
   "cell_type": "markdown",
   "metadata": {},
   "source": [
    "### Example with account data"
   ]
  },
  {
   "cell_type": "markdown",
   "metadata": {},
   "source": [
    "We find the number of people with the same name."
   ]
  },
  {
   "cell_type": "code",
   "execution_count": 23,
   "metadata": {
    "execution": {
     "iopub.execute_input": "2021-02-02T03:57:20.154789Z",
     "iopub.status.busy": "2021-02-02T03:57:20.154290Z",
     "iopub.status.idle": "2021-02-02T03:57:26.418370Z",
     "shell.execute_reply": "2021-02-02T03:57:26.417922Z"
    }
   },
   "outputs": [
    {
     "name": "stdout",
     "output_type": "stream",
     "text": [
      "[('Alice', 131), ('Alice', 131), ('Alice', 142), ('Alice', 143), ('Bob', 97), ('Bob', 99), ('Bob', 106), ('Bob', 109), ('Charlie', 86), ('Charlie', 87), ('Charlie', 91), ('Charlie', 92), ('Dan', 120), ('Dan', 120), ('Dan', 129), ('Dan', 130), ('Edith', 119), ('Edith', 120), ('Edith', 130), ('Edith', 130), ('Frank', 147), ('Frank', 159), ('Frank', 307), ('George', 136), ('George', 139), ('George', 145), ('George', 150), ('Hannah', 119), ('Hannah', 119), ('Hannah', 130), ('Hannah', 130), ('Ingrid', 67), ('Ingrid', 67), ('Ingrid', 71), ('Ingrid', 73), ('Jerry', 95), ('Jerry', 96), ('Jerry', 102), ('Jerry', 103), ('Kevin', 144), ('Kevin', 144), ('Kevin', 156), ('Kevin', 156), ('Laura', 181), ('Laura', 185), ('Laura', 197), ('Laura', 197), ('Michael', 48), ('Michael', 48), ('Michael', 52), ('Michael', 52), ('Norbert', 108), ('Norbert', 109), ('Norbert', 214), ('Oliver', 106), ('Oliver', 106), ('Oliver', 115), ('Oliver', 117), ('Patricia', 96), ('Patricia', 96), ('Patricia', 104), ('Patricia', 104), ('Quinn', 69), ('Quinn', 71), ('Quinn', 77), ('Quinn', 77), ('Ray', 145), ('Ray', 150), ('Ray', 159), ('Ray', 163), ('Sarah', 94), ('Sarah', 96), ('Sarah', 102), ('Sarah', 103), ('Tim', 72), ('Tim', 72), ('Tim', 78), ('Tim', 78), ('Ursula', 120), ('Ursula', 120), ('Ursula', 130), ('Ursula', 130), ('Victor', 131), ('Victor', 132), ('Victor', 142), ('Victor', 143), ('Wendy', 106), ('Wendy', 107), ('Wendy', 115), ('Wendy', 117), ('Xavier', 119), ('Xavier', 120), ('Xavier', 130), ('Xavier', 130), ('Yvonne', 107), ('Yvonne', 112), ('Yvonne', 120), ('Yvonne', 121), ('Zelda', 132), ('Zelda', 132), ('Zelda', 142), ('Zelda', 143)]\n",
      "CPU times: user 1.22 s, sys: 78.8 ms, total: 1.3 s\n",
      "Wall time: 6.27 s\n"
     ]
    }
   ],
   "source": [
    "%%time\n",
    "# Warning, this one takes a while...\n",
    "result = js.groupby(lambda item: item['name']).starmap(lambda k, v: (k, len(v))).compute()\n",
    "print(sorted(result))"
   ]
  },
  {
   "cell_type": "code",
   "execution_count": 24,
   "metadata": {
    "execution": {
     "iopub.execute_input": "2021-02-02T03:57:26.423450Z",
     "iopub.status.busy": "2021-02-02T03:57:26.422983Z",
     "iopub.status.idle": "2021-02-02T03:57:26.892639Z",
     "shell.execute_reply": "2021-02-02T03:57:26.893140Z"
    }
   },
   "outputs": [
    {
     "name": "stdout",
     "output_type": "stream",
     "text": [
      "[('Alice', 547), ('Bob', 411), ('Charlie', 356), ('Dan', 499), ('Edith', 499), ('Frank', 613), ('George', 570), ('Hannah', 498), ('Ingrid', 278), ('Jerry', 396), ('Kevin', 600), ('Laura', 760), ('Michael', 200), ('Norbert', 431), ('Oliver', 444), ('Patricia', 400), ('Quinn', 294), ('Ray', 617), ('Sarah', 395), ('Tim', 300), ('Ursula', 500), ('Victor', 548), ('Wendy', 445), ('Xavier', 499), ('Yvonne', 460), ('Zelda', 549)]\n",
      "CPU times: user 127 ms, sys: 7.67 ms, total: 135 ms\n",
      "Wall time: 467 ms\n"
     ]
    }
   ],
   "source": [
    "%%time\n",
    "# This one is comparatively fast and produces the same result.\n",
    "from operator import add\n",
    "def incr(tot, _):\n",
    "    return tot + 1\n",
    "\n",
    "result = js.foldby(key='name', \n",
    "                   binop=incr, \n",
    "                   initial=0, \n",
    "                   combine=add, \n",
    "                   combine_initial=0).compute()\n",
    "print(sorted(result))"
   ]
  },
  {
   "cell_type": "markdown",
   "metadata": {},
   "source": [
    "### Exercise: compute total amount per name"
   ]
  },
  {
   "cell_type": "markdown",
   "metadata": {},
   "source": [
    "We want to groupby (or foldby) the `name` key, then add up the all of the amounts for each name.\n",
    "\n",
    "Steps\n",
    "\n",
    "1.  Create a small function that, given a dictionary like \n",
    "\n",
    "        {'name': 'Alice', 'transactions': [{'amount': 1, 'id': 123}, {'amount': 2, 'id': 456}]}\n",
    "        \n",
    "    produces the sum of the amounts, e.g. `3`\n",
    "    \n",
    "2.  Slightly change the binary operator of the `foldby` example above so that the binary operator doesn't count the number of entries, but instead accumulates the sum of the amounts."
   ]
  },
  {
   "cell_type": "code",
   "execution_count": 25,
   "metadata": {
    "execution": {
     "iopub.execute_input": "2021-02-02T03:57:26.896727Z",
     "iopub.status.busy": "2021-02-02T03:57:26.896246Z",
     "iopub.status.idle": "2021-02-02T03:57:26.898911Z",
     "shell.execute_reply": "2021-02-02T03:57:26.899399Z"
    }
   },
   "outputs": [],
   "source": [
    "# Your code here..."
   ]
  },
  {
   "cell_type": "markdown",
   "metadata": {},
   "source": [
    "## DataFrames"
   ]
  },
  {
   "cell_type": "markdown",
   "metadata": {},
   "source": [
    "For the same reasons that Pandas is often faster than pure Python, `dask.dataframe` can be faster than `dask.bag`.  We will work more with DataFrames later, but from the point of view of a Bag, it is frequently the end-point of the \"messy\" part of data ingestion—once the data can be made into a data-frame, then complex split-apply-combine logic will become much more straight-forward and efficient.\n",
    "\n",
    "You can transform a bag with a simple tuple or flat dictionary structure into a `dask.dataframe` with the `to_dataframe` method."
   ]
  },
  {
   "cell_type": "code",
   "execution_count": 26,
   "metadata": {
    "execution": {
     "iopub.execute_input": "2021-02-02T03:57:26.904736Z",
     "iopub.status.busy": "2021-02-02T03:57:26.902295Z",
     "iopub.status.idle": "2021-02-02T03:57:27.538316Z",
     "shell.execute_reply": "2021-02-02T03:57:27.537527Z"
    }
   },
   "outputs": [
    {
     "data": {
      "text/html": [
       "<div>\n",
       "<style scoped>\n",
       "    .dataframe tbody tr th:only-of-type {\n",
       "        vertical-align: middle;\n",
       "    }\n",
       "\n",
       "    .dataframe tbody tr th {\n",
       "        vertical-align: top;\n",
       "    }\n",
       "\n",
       "    .dataframe thead th {\n",
       "        text-align: right;\n",
       "    }\n",
       "</style>\n",
       "<table border=\"1\" class=\"dataframe\">\n",
       "  <thead>\n",
       "    <tr style=\"text-align: right;\">\n",
       "      <th></th>\n",
       "      <th>id</th>\n",
       "      <th>name</th>\n",
       "      <th>transactions</th>\n",
       "    </tr>\n",
       "  </thead>\n",
       "  <tbody>\n",
       "    <tr>\n",
       "      <th>0</th>\n",
       "      <td>0</td>\n",
       "      <td>Yvonne</td>\n",
       "      <td>[{'transaction-id': 1899, 'amount': 94}, {'tra...</td>\n",
       "    </tr>\n",
       "    <tr>\n",
       "      <th>1</th>\n",
       "      <td>1</td>\n",
       "      <td>Yvonne</td>\n",
       "      <td>[{'transaction-id': 2739, 'amount': 221}, {'tr...</td>\n",
       "    </tr>\n",
       "    <tr>\n",
       "      <th>2</th>\n",
       "      <td>2</td>\n",
       "      <td>Edith</td>\n",
       "      <td>[{'transaction-id': 4950, 'amount': 406}, {'tr...</td>\n",
       "    </tr>\n",
       "    <tr>\n",
       "      <th>3</th>\n",
       "      <td>3</td>\n",
       "      <td>Alice</td>\n",
       "      <td>[{'transaction-id': 10, 'amount': 3812}, {'tra...</td>\n",
       "    </tr>\n",
       "    <tr>\n",
       "      <th>4</th>\n",
       "      <td>4</td>\n",
       "      <td>Dan</td>\n",
       "      <td>[{'transaction-id': 4517, 'amount': 1208}, {'t...</td>\n",
       "    </tr>\n",
       "  </tbody>\n",
       "</table>\n",
       "</div>"
      ],
      "text/plain": [
       "   id    name                                       transactions\n",
       "0   0  Yvonne  [{'transaction-id': 1899, 'amount': 94}, {'tra...\n",
       "1   1  Yvonne  [{'transaction-id': 2739, 'amount': 221}, {'tr...\n",
       "2   2   Edith  [{'transaction-id': 4950, 'amount': 406}, {'tr...\n",
       "3   3   Alice  [{'transaction-id': 10, 'amount': 3812}, {'tra...\n",
       "4   4     Dan  [{'transaction-id': 4517, 'amount': 1208}, {'t..."
      ]
     },
     "execution_count": 1,
     "metadata": {},
     "output_type": "execute_result"
    }
   ],
   "source": [
    "df1 = js.to_dataframe()\n",
    "df1.head()"
   ]
  },
  {
   "cell_type": "markdown",
   "metadata": {},
   "source": [
    "This now looks like a well-defined DataFrame, and we can apply Pandas-like computations to it efficiently."
   ]
  },
  {
   "cell_type": "markdown",
   "metadata": {},
   "source": [
    "Using a Dask DataFrame, how long does it take to do our prior computation of numbers of people with the same name?  It turns out that `dask.dataframe.groupby()` beats `dask.bag.groupby()` by more than an order of magnitude; but it still cannot match `dask.bag.foldby()` for this case."
   ]
  },
  {
   "cell_type": "code",
   "execution_count": 27,
   "metadata": {
    "execution": {
     "iopub.execute_input": "2021-02-02T03:57:27.547527Z",
     "iopub.status.busy": "2021-02-02T03:57:27.547026Z",
     "iopub.status.idle": "2021-02-02T03:57:28.892823Z",
     "shell.execute_reply": "2021-02-02T03:57:28.893184Z"
    }
   },
   "outputs": [
    {
     "name": "stdout",
     "output_type": "stream",
     "text": [
      "CPU times: user 149 ms, sys: 20.9 ms, total: 170 ms\n",
      "Wall time: 1.34 s\n"
     ]
    },
    {
     "data": {
      "text/plain": [
       "name\n",
       "Alice      547\n",
       "Bob        411\n",
       "Charlie    356\n",
       "Dan        499\n",
       "Edith      499\n",
       "Name: id, dtype: int64"
      ]
     },
     "execution_count": 1,
     "metadata": {},
     "output_type": "execute_result"
    }
   ],
   "source": [
    "%time df1.groupby('name').id.count().compute().head()"
   ]
  },
  {
   "cell_type": "markdown",
   "metadata": {},
   "source": [
    "### Denormalization"
   ]
  },
  {
   "cell_type": "markdown",
   "metadata": {},
   "source": [
    "This DataFrame format is less-than-optimal because the `transactions` column is filled with nested data so Pandas has to revert to `object` dtype, which is quite slow in Pandas.  Ideally we want to transform to a dataframe only after we have flattened our data so that each record is a single `int`, `string`, `float`, etc.."
   ]
  },
  {
   "cell_type": "code",
   "execution_count": 28,
   "metadata": {
    "execution": {
     "iopub.execute_input": "2021-02-02T03:57:28.898940Z",
     "iopub.status.busy": "2021-02-02T03:57:28.897496Z",
     "iopub.status.idle": "2021-02-02T03:57:28.914374Z",
     "shell.execute_reply": "2021-02-02T03:57:28.913971Z"
    }
   },
   "outputs": [
    {
     "data": {
      "text/plain": [
       "({'id': 0, 'name': 'Yvonne', 'amount': 94, 'transaction-id': 1899},\n",
       " {'id': 0, 'name': 'Yvonne', 'amount': -72, 'transaction-id': 2661},\n",
       " {'id': 0, 'name': 'Yvonne', 'amount': -54, 'transaction-id': 3757})"
      ]
     },
     "execution_count": 1,
     "metadata": {},
     "output_type": "execute_result"
    }
   ],
   "source": [
    "def denormalize(record):\n",
    "    # returns a list for each person, one item per transaction\n",
    "    return [{'id': record['id'], \n",
    "             'name': record['name'], \n",
    "             'amount': transaction['amount'], \n",
    "             'transaction-id': transaction['transaction-id']}\n",
    "            for transaction in record['transactions']]\n",
    "\n",
    "transactions = js.map(denormalize).flatten()\n",
    "transactions.take(3)"
   ]
  },
  {
   "cell_type": "code",
   "execution_count": 29,
   "metadata": {
    "execution": {
     "iopub.execute_input": "2021-02-02T03:57:28.917706Z",
     "iopub.status.busy": "2021-02-02T03:57:28.916862Z",
     "iopub.status.idle": "2021-02-02T03:57:28.994139Z",
     "shell.execute_reply": "2021-02-02T03:57:28.993302Z"
    }
   },
   "outputs": [
    {
     "data": {
      "text/html": [
       "<div>\n",
       "<style scoped>\n",
       "    .dataframe tbody tr th:only-of-type {\n",
       "        vertical-align: middle;\n",
       "    }\n",
       "\n",
       "    .dataframe tbody tr th {\n",
       "        vertical-align: top;\n",
       "    }\n",
       "\n",
       "    .dataframe thead th {\n",
       "        text-align: right;\n",
       "    }\n",
       "</style>\n",
       "<table border=\"1\" class=\"dataframe\">\n",
       "  <thead>\n",
       "    <tr style=\"text-align: right;\">\n",
       "      <th></th>\n",
       "      <th>id</th>\n",
       "      <th>name</th>\n",
       "      <th>amount</th>\n",
       "      <th>transaction-id</th>\n",
       "    </tr>\n",
       "  </thead>\n",
       "  <tbody>\n",
       "    <tr>\n",
       "      <th>0</th>\n",
       "      <td>0</td>\n",
       "      <td>Yvonne</td>\n",
       "      <td>94</td>\n",
       "      <td>1899</td>\n",
       "    </tr>\n",
       "    <tr>\n",
       "      <th>1</th>\n",
       "      <td>0</td>\n",
       "      <td>Yvonne</td>\n",
       "      <td>-72</td>\n",
       "      <td>2661</td>\n",
       "    </tr>\n",
       "    <tr>\n",
       "      <th>2</th>\n",
       "      <td>0</td>\n",
       "      <td>Yvonne</td>\n",
       "      <td>-54</td>\n",
       "      <td>3757</td>\n",
       "    </tr>\n",
       "    <tr>\n",
       "      <th>3</th>\n",
       "      <td>0</td>\n",
       "      <td>Yvonne</td>\n",
       "      <td>-20</td>\n",
       "      <td>4224</td>\n",
       "    </tr>\n",
       "    <tr>\n",
       "      <th>4</th>\n",
       "      <td>0</td>\n",
       "      <td>Yvonne</td>\n",
       "      <td>-19</td>\n",
       "      <td>4917</td>\n",
       "    </tr>\n",
       "  </tbody>\n",
       "</table>\n",
       "</div>"
      ],
      "text/plain": [
       "   id    name  amount  transaction-id\n",
       "0   0  Yvonne      94            1899\n",
       "1   0  Yvonne     -72            2661\n",
       "2   0  Yvonne     -54            3757\n",
       "3   0  Yvonne     -20            4224\n",
       "4   0  Yvonne     -19            4917"
      ]
     },
     "execution_count": 1,
     "metadata": {},
     "output_type": "execute_result"
    }
   ],
   "source": [
    "df = transactions.to_dataframe()\n",
    "df.head()"
   ]
  },
  {
   "cell_type": "code",
   "execution_count": 30,
   "metadata": {
    "execution": {
     "iopub.execute_input": "2021-02-02T03:57:29.001251Z",
     "iopub.status.busy": "2021-02-02T03:57:29.000740Z",
     "iopub.status.idle": "2021-02-02T03:57:30.093683Z",
     "shell.execute_reply": "2021-02-02T03:57:30.092538Z"
    }
   },
   "outputs": [
    {
     "name": "stdout",
     "output_type": "stream",
     "text": [
      "CPU times: user 169 ms, sys: 9.09 ms, total: 178 ms\n",
      "Wall time: 1.08 s\n"
     ]
    },
    {
     "data": {
      "text/plain": [
       "name\n",
       "Alice       26352\n",
       "Bob         16699\n",
       "Charlie     14372\n",
       "Dan         35471\n",
       "Edith       21745\n",
       "Frank       17231\n",
       "George      28264\n",
       "Hannah      23102\n",
       "Ingrid      13255\n",
       "Jerry       24249\n",
       "Kevin       22948\n",
       "Laura       40803\n",
       "Michael      8067\n",
       "Norbert     18657\n",
       "Oliver      13279\n",
       "Patricia     7601\n",
       "Quinn       12679\n",
       "Ray         28154\n",
       "Sarah       10978\n",
       "Tim         13092\n",
       "Ursula      19027\n",
       "Victor      29054\n",
       "Wendy        8087\n",
       "Xavier      14070\n",
       "Yvonne      13189\n",
       "Zelda       19575\n",
       "Name: transaction-id, dtype: int64"
      ]
     },
     "execution_count": 1,
     "metadata": {},
     "output_type": "execute_result"
    }
   ],
   "source": [
    "%%time\n",
    "# number of transactions per name\n",
    "# note that the time here includes the data load and ingestion\n",
    "df.groupby('name')['transaction-id'].count().compute()"
   ]
  },
  {
   "cell_type": "markdown",
   "metadata": {},
   "source": [
    "## Limitations"
   ]
  },
  {
   "cell_type": "markdown",
   "metadata": {},
   "source": [
    "Bags provide very general computation (any Python function.)  This generality\n",
    "comes at cost.  Bags have the following known limitations\n",
    "\n",
    "1.  Bag operations tend to be slower than array/dataframe computations in the\n",
    "    same way that Python tends to be slower than NumPy/Pandas\n",
    "2.  ``Bag.groupby`` is slow.  You should try to use ``Bag.foldby`` if possible.\n",
    "    Using ``Bag.foldby`` requires more thought. Even better, consider creating\n",
    "    a normalised dataframe."
   ]
  },
  {
   "cell_type": "markdown",
   "metadata": {},
   "source": [
    "## Learn More\n",
    "\n",
    "* [Bag documentation](https://docs.dask.org/en/latest/bag.html)\n",
    "* [Bag screencast](https://youtu.be/-qIiJ1XtSv0)\n",
    "* [Bag API](https://docs.dask.org/en/latest/bag-api.html)\n",
    "* [Bag examples](https://examples.dask.org/bag.html)"
   ]
  },
  {
   "cell_type": "markdown",
   "metadata": {},
   "source": [
    "## Shutdown"
   ]
  },
  {
   "cell_type": "code",
   "execution_count": 31,
   "metadata": {
    "execution": {
     "iopub.execute_input": "2021-02-02T03:57:30.097197Z",
     "iopub.status.busy": "2021-02-02T03:57:30.096719Z",
     "iopub.status.idle": "2021-02-02T03:57:31.535826Z",
     "shell.execute_reply": "2021-02-02T03:57:31.535384Z"
    }
   },
   "outputs": [],
   "source": [
    "client.shutdown()"
   ]
  }
 ],
 "metadata": {
  "anaconda-cloud": {},
  "kernelspec": {
   "display_name": "Python 3",
   "language": "python",
   "name": "python3"
  },
  "language_info": {
   "codemirror_mode": {
    "name": "ipython",
    "version": 3
   },
   "file_extension": ".py",
   "mimetype": "text/x-python",
   "name": "python",
   "nbconvert_exporter": "python",
   "pygments_lexer": "ipython3",
   "version": "3.8.6"
  }
 },
 "nbformat": 4,
 "nbformat_minor": 4
}
