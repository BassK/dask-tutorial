{
 "cells": [
  {
   "cell_type": "markdown",
   "metadata": {},
   "source": [
    "<img src=\"images/dask_horizontal.svg\" align=\"right\" width=\"30%\">"
   ]
  },
  {
   "cell_type": "markdown",
   "metadata": {},
   "source": [
    "# Bag: Parallel Lists for semi-structured data"
   ]
  },
  {
   "cell_type": "markdown",
   "metadata": {},
   "source": [
    "Dask-bag excels in processing data that can be represented as a sequence of arbitrary inputs. We'll refer to this as \"messy\" data, because it can contain complex nested structures, missing fields, mixtures of data types, etc. The *functional* programming style fits very nicely with standard Python iteration, such as can be found in the `itertools` module.\n",
    "\n",
    "Messy data is often encountered at the beginning of data processing pipelines when large volumes of raw data are first consumed. The initial set of data might be JSON, CSV, XML, or any other format that does not enforce strict structure and datatypes.\n",
    "For this reason, the initial data massaging and processing is often done with Python `list`s, `dict`s, and `set`s.\n",
    "\n",
    "These core data structures are optimized for general-purpose storage and processing.  Adding streaming computation with iterators/generator expressions or libraries like `itertools` or [`toolz`](https://toolz.readthedocs.io/en/latest/) let us process large volumes in a small space.  If we combine this with parallel processing then we can churn through a fair amount of data.\n",
    "\n",
    "Dask.bag is a high level Dask collection to automate common workloads of this form.  In a nutshell\n",
    "\n",
    "    dask.bag = map, filter, toolz + parallel execution\n",
    "    \n",
    "**Related Documentation**\n",
    "\n",
    "* [Bag documentation](https://docs.dask.org/en/latest/bag.html)\n",
    "* [Bag screencast](https://youtu.be/-qIiJ1XtSv0)\n",
    "* [Bag API](https://docs.dask.org/en/latest/bag-api.html)\n",
    "* [Bag examples](https://examples.dask.org/bag.html)"
   ]
  },
  {
   "cell_type": "markdown",
   "metadata": {},
   "source": [
    "## Create data"
   ]
  },
  {
   "cell_type": "code",
   "execution_count": 1,
   "metadata": {
    "execution": {
     "iopub.execute_input": "2021-01-13T23:27:24.489748Z",
     "iopub.status.busy": "2021-01-13T23:27:24.488966Z",
     "iopub.status.idle": "2021-01-13T23:27:24.945042Z",
     "shell.execute_reply": "2021-01-13T23:27:24.944169Z"
    }
   },
   "outputs": [],
   "source": [
    "%run prep.py -d accounts"
   ]
  },
  {
   "cell_type": "markdown",
   "metadata": {},
   "source": [
    "## Setup"
   ]
  },
  {
   "cell_type": "markdown",
   "metadata": {},
   "source": [
    "Again, we'll use the distributed scheduler. Schedulers will be explained in depth [later](05_distributed.ipynb)."
   ]
  },
  {
   "cell_type": "code",
   "execution_count": 2,
   "metadata": {
    "execution": {
     "iopub.execute_input": "2021-01-13T23:27:24.948252Z",
     "iopub.status.busy": "2021-01-13T23:27:24.947638Z",
     "iopub.status.idle": "2021-01-13T23:27:26.242534Z",
     "shell.execute_reply": "2021-01-13T23:27:26.242843Z"
    }
   },
   "outputs": [],
   "source": [
    "from dask.distributed import Client\n",
    "\n",
    "client = Client(n_workers=4)"
   ]
  },
  {
   "cell_type": "markdown",
   "metadata": {},
   "source": [
    "## Creation"
   ]
  },
  {
   "cell_type": "markdown",
   "metadata": {},
   "source": [
    "You can create a `Bag` from a Python sequence, from files, from data on S3, etc.\n",
    "We demonstrate using `.take()` to show elements of the data. (Doing `.take(1)` results in a tuple with one element)\n",
    "\n",
    "Note that the data are partitioned into blocks, and there are many items per block. In the first example, the two partitions contain five elements each, and in the following two, each file is partitioned into one or more bytes blocks."
   ]
  },
  {
   "cell_type": "code",
   "execution_count": 3,
   "metadata": {
    "execution": {
     "iopub.execute_input": "2021-01-13T23:27:26.245021Z",
     "iopub.status.busy": "2021-01-13T23:27:26.244629Z",
     "iopub.status.idle": "2021-01-13T23:27:26.287197Z",
     "shell.execute_reply": "2021-01-13T23:27:26.287711Z"
    }
   },
   "outputs": [
    {
     "data": {
      "text/plain": [
       "(1, 2, 3)"
      ]
     },
     "execution_count": 1,
     "metadata": {},
     "output_type": "execute_result"
    }
   ],
   "source": [
    "# each element is an integer\n",
    "import dask.bag as db\n",
    "b = db.from_sequence([1, 2, 3, 4, 5, 6, 7, 8, 9, 10], npartitions=2)\n",
    "b.take(3)"
   ]
  },
  {
   "cell_type": "code",
   "execution_count": 4,
   "metadata": {
    "execution": {
     "iopub.execute_input": "2021-01-13T23:27:26.290862Z",
     "iopub.status.busy": "2021-01-13T23:27:26.289186Z",
     "iopub.status.idle": "2021-01-13T23:27:26.314048Z",
     "shell.execute_reply": "2021-01-13T23:27:26.313426Z"
    }
   },
   "outputs": [
    {
     "data": {
      "text/plain": [
       "('{\"id\": 0, \"name\": \"Michael\", \"transactions\": [{\"transaction-id\": 25, \"amount\": 774}, {\"transaction-id\": 61, \"amount\": 735}, {\"transaction-id\": 339, \"amount\": 951}, {\"transaction-id\": 360, \"amount\": 829}, {\"transaction-id\": 416, \"amount\": 910}, {\"transaction-id\": 490, \"amount\": 902}, {\"transaction-id\": 495, \"amount\": 722}, {\"transaction-id\": 614, \"amount\": 729}, {\"transaction-id\": 670, \"amount\": 805}, {\"transaction-id\": 859, \"amount\": 854}, {\"transaction-id\": 1126, \"amount\": 837}, {\"transaction-id\": 1240, \"amount\": 1079}, {\"transaction-id\": 1449, \"amount\": 784}, {\"transaction-id\": 1487, \"amount\": 800}, {\"transaction-id\": 1540, \"amount\": 863}, {\"transaction-id\": 1606, \"amount\": 861}, {\"transaction-id\": 1609, \"amount\": 891}, {\"transaction-id\": 1763, \"amount\": 834}, {\"transaction-id\": 1792, \"amount\": 867}, {\"transaction-id\": 1870, \"amount\": 621}, {\"transaction-id\": 1915, \"amount\": 743}, {\"transaction-id\": 1966, \"amount\": 742}, {\"transaction-id\": 2036, \"amount\": 887}, {\"transaction-id\": 2043, \"amount\": 844}, {\"transaction-id\": 2072, \"amount\": 905}, {\"transaction-id\": 2236, \"amount\": 831}, {\"transaction-id\": 2304, \"amount\": 723}, {\"transaction-id\": 2421, \"amount\": 834}, {\"transaction-id\": 2424, \"amount\": 952}, {\"transaction-id\": 2585, \"amount\": 821}, {\"transaction-id\": 2718, \"amount\": 815}, {\"transaction-id\": 2724, \"amount\": 911}, {\"transaction-id\": 2757, \"amount\": 850}, {\"transaction-id\": 2832, \"amount\": 998}, {\"transaction-id\": 2838, \"amount\": 837}, {\"transaction-id\": 2867, \"amount\": 907}, {\"transaction-id\": 2980, \"amount\": 891}, {\"transaction-id\": 3087, \"amount\": 866}, {\"transaction-id\": 3246, \"amount\": 881}, {\"transaction-id\": 3591, \"amount\": 802}, {\"transaction-id\": 3618, \"amount\": 741}, {\"transaction-id\": 3636, \"amount\": 888}, {\"transaction-id\": 3702, \"amount\": 866}, {\"transaction-id\": 4016, \"amount\": 775}, {\"transaction-id\": 4058, \"amount\": 869}, {\"transaction-id\": 4204, \"amount\": 823}, {\"transaction-id\": 4226, \"amount\": 900}, {\"transaction-id\": 4301, \"amount\": 854}, {\"transaction-id\": 4367, \"amount\": 822}, {\"transaction-id\": 4499, \"amount\": 867}, {\"transaction-id\": 4597, \"amount\": 857}, {\"transaction-id\": 4739, \"amount\": 823}, {\"transaction-id\": 4743, \"amount\": 882}, {\"transaction-id\": 5005, \"amount\": 728}, {\"transaction-id\": 5012, \"amount\": 898}, {\"transaction-id\": 5023, \"amount\": 998}, {\"transaction-id\": 5062, \"amount\": 955}, {\"transaction-id\": 5155, \"amount\": 838}, {\"transaction-id\": 5182, \"amount\": 968}, {\"transaction-id\": 5206, \"amount\": 745}, {\"transaction-id\": 5615, \"amount\": 823}, {\"transaction-id\": 5720, \"amount\": 856}, {\"transaction-id\": 5739, \"amount\": 761}, {\"transaction-id\": 5850, \"amount\": 910}, {\"transaction-id\": 5913, \"amount\": 904}, {\"transaction-id\": 5944, \"amount\": 805}, {\"transaction-id\": 6127, \"amount\": 786}, {\"transaction-id\": 6290, \"amount\": 775}, {\"transaction-id\": 6446, \"amount\": 822}, {\"transaction-id\": 6452, \"amount\": 772}, {\"transaction-id\": 6652, \"amount\": 771}, {\"transaction-id\": 6771, \"amount\": 774}, {\"transaction-id\": 6793, \"amount\": 959}, {\"transaction-id\": 6988, \"amount\": 960}, {\"transaction-id\": 7173, \"amount\": 937}, {\"transaction-id\": 7180, \"amount\": 918}, {\"transaction-id\": 7244, \"amount\": 851}, {\"transaction-id\": 7245, \"amount\": 852}, {\"transaction-id\": 7258, \"amount\": 1065}, {\"transaction-id\": 7486, \"amount\": 846}, {\"transaction-id\": 7513, \"amount\": 950}, {\"transaction-id\": 7520, \"amount\": 933}, {\"transaction-id\": 7702, \"amount\": 752}, {\"transaction-id\": 7795, \"amount\": 992}, {\"transaction-id\": 7906, \"amount\": 769}, {\"transaction-id\": 7967, \"amount\": 905}, {\"transaction-id\": 7983, \"amount\": 774}, {\"transaction-id\": 8085, \"amount\": 935}, {\"transaction-id\": 8103, \"amount\": 1041}, {\"transaction-id\": 8422, \"amount\": 842}, {\"transaction-id\": 8484, \"amount\": 873}, {\"transaction-id\": 8539, \"amount\": 872}, {\"transaction-id\": 8618, \"amount\": 862}, {\"transaction-id\": 8656, \"amount\": 633}, {\"transaction-id\": 8922, \"amount\": 902}, {\"transaction-id\": 8988, \"amount\": 869}, {\"transaction-id\": 9335, \"amount\": 827}, {\"transaction-id\": 9464, \"amount\": 778}, {\"transaction-id\": 9536, \"amount\": 752}, {\"transaction-id\": 9544, \"amount\": 879}, {\"transaction-id\": 9594, \"amount\": 793}, {\"transaction-id\": 9638, \"amount\": 757}, {\"transaction-id\": 9659, \"amount\": 727}, {\"transaction-id\": 9745, \"amount\": 942}, {\"transaction-id\": 9755, \"amount\": 849}, {\"transaction-id\": 9785, \"amount\": 783}, {\"transaction-id\": 9911, \"amount\": 812}, {\"transaction-id\": 9980, \"amount\": 846}]}\\n',)"
      ]
     },
     "execution_count": 1,
     "metadata": {},
     "output_type": "execute_result"
    }
   ],
   "source": [
    "# each element is a text file, where each line is a JSON object\n",
    "# note that the compression is handled automatically\n",
    "import os\n",
    "b = db.read_text(os.path.join('data', 'accounts.*.json.gz'))\n",
    "b.take(1)"
   ]
  },
  {
   "cell_type": "code",
   "execution_count": 5,
   "metadata": {
    "execution": {
     "iopub.execute_input": "2021-01-13T23:27:26.316739Z",
     "iopub.status.busy": "2021-01-13T23:27:26.316400Z",
     "iopub.status.idle": "2021-01-13T23:27:26.318022Z",
     "shell.execute_reply": "2021-01-13T23:27:26.318549Z"
    }
   },
   "outputs": [
    {
     "data": {
      "text/plain": [
       "'s3://dask-data/nyc-taxi/2015/yellow_tripdata_2015-01.csv'"
      ]
     },
     "execution_count": 1,
     "metadata": {},
     "output_type": "execute_result"
    }
   ],
   "source": [
    "# Edit sources.py to configure source locations\n",
    "import sources\n",
    "sources.bag_url"
   ]
  },
  {
   "cell_type": "code",
   "execution_count": 6,
   "metadata": {
    "execution": {
     "iopub.execute_input": "2021-01-13T23:27:26.321413Z",
     "iopub.status.busy": "2021-01-13T23:27:26.321072Z",
     "iopub.status.idle": "2021-01-13T23:27:26.926075Z",
     "shell.execute_reply": "2021-01-13T23:27:26.926375Z"
    }
   },
   "outputs": [
    {
     "data": {
      "text/plain": [
       "('VendorID,tpep_pickup_datetime,tpep_dropoff_datetime,passenger_count,trip_distance,pickup_longitude,pickup_latitude,RateCodeID,store_and_fwd_flag,dropoff_longitude,dropoff_latitude,payment_type,fare_amount,extra,mta_tax,tip_amount,tolls_amount,improvement_surcharge,total_amount\\n',)"
      ]
     },
     "execution_count": 1,
     "metadata": {},
     "output_type": "execute_result"
    }
   ],
   "source": [
    "# Requires `s3fs` library\n",
    "# each partition is a remote CSV text file\n",
    "b = db.read_text(sources.bag_url,\n",
    "                 storage_options={'anon': True})\n",
    "b.take(1)"
   ]
  },
  {
   "cell_type": "markdown",
   "metadata": {},
   "source": [
    "## Manipulation"
   ]
  },
  {
   "cell_type": "markdown",
   "metadata": {},
   "source": [
    "`Bag` objects hold the standard functional API found in projects like the Python standard library, `toolz`, or `pyspark`, including `map`, `filter`, `groupby`, etc..\n",
    "\n",
    "Operations on `Bag` objects create new bags.  Call the `.compute()` method to trigger execution, as we saw for `Delayed` objects.  "
   ]
  },
  {
   "cell_type": "code",
   "execution_count": 7,
   "metadata": {
    "execution": {
     "iopub.execute_input": "2021-01-13T23:27:26.930482Z",
     "iopub.status.busy": "2021-01-13T23:27:26.930085Z",
     "iopub.status.idle": "2021-01-13T23:27:26.934698Z",
     "shell.execute_reply": "2021-01-13T23:27:26.933910Z"
    }
   },
   "outputs": [
    {
     "data": {
      "text/plain": [
       "dask.bag<lambda, npartitions=10>"
      ]
     },
     "execution_count": 1,
     "metadata": {},
     "output_type": "execute_result"
    }
   ],
   "source": [
    "def is_even(n):\n",
    "    return n % 2 == 0\n",
    "\n",
    "b = db.from_sequence([1, 2, 3, 4, 5, 6, 7, 8, 9, 10])\n",
    "c = b.filter(is_even).map(lambda x: x ** 2)\n",
    "c"
   ]
  },
  {
   "cell_type": "code",
   "execution_count": 8,
   "metadata": {
    "execution": {
     "iopub.execute_input": "2021-01-13T23:27:26.938128Z",
     "iopub.status.busy": "2021-01-13T23:27:26.937777Z",
     "iopub.status.idle": "2021-01-13T23:27:26.992362Z",
     "shell.execute_reply": "2021-01-13T23:27:26.991995Z"
    }
   },
   "outputs": [
    {
     "data": {
      "text/plain": [
       "[4, 16, 36, 64, 100]"
      ]
     },
     "execution_count": 1,
     "metadata": {},
     "output_type": "execute_result"
    }
   ],
   "source": [
    "# blocking form: wait for completion (which is very fast in this case)\n",
    "c.compute()"
   ]
  },
  {
   "cell_type": "markdown",
   "metadata": {},
   "source": [
    "### Example: Accounts JSON data"
   ]
  },
  {
   "cell_type": "markdown",
   "metadata": {},
   "source": [
    "We've created a fake dataset of gzipped JSON data in your data directory.  This is like the example used in the `DataFrame` example we will see later, except that it has bundled up all of the entires for each individual `id` into a single record.  This is similar to data that you might collect off of a document store database or a web API.\n",
    "\n",
    "Each line is a JSON encoded dictionary with the following keys\n",
    "\n",
    "*  id: Unique identifier of the customer\n",
    "*  name: Name of the customer\n",
    "*  transactions: List of `transaction-id`, `amount` pairs, one for each transaction for the customer in that file"
   ]
  },
  {
   "cell_type": "code",
   "execution_count": 9,
   "metadata": {
    "execution": {
     "iopub.execute_input": "2021-01-13T23:27:26.995004Z",
     "iopub.status.busy": "2021-01-13T23:27:26.994670Z",
     "iopub.status.idle": "2021-01-13T23:27:27.016581Z",
     "shell.execute_reply": "2021-01-13T23:27:27.016160Z"
    }
   },
   "outputs": [
    {
     "data": {
      "text/plain": [
       "('{\"id\": 0, \"name\": \"Michael\", \"transactions\": [{\"transaction-id\": 25, \"amount\": 774}, {\"transaction-id\": 61, \"amount\": 735}, {\"transaction-id\": 339, \"amount\": 951}, {\"transaction-id\": 360, \"amount\": 829}, {\"transaction-id\": 416, \"amount\": 910}, {\"transaction-id\": 490, \"amount\": 902}, {\"transaction-id\": 495, \"amount\": 722}, {\"transaction-id\": 614, \"amount\": 729}, {\"transaction-id\": 670, \"amount\": 805}, {\"transaction-id\": 859, \"amount\": 854}, {\"transaction-id\": 1126, \"amount\": 837}, {\"transaction-id\": 1240, \"amount\": 1079}, {\"transaction-id\": 1449, \"amount\": 784}, {\"transaction-id\": 1487, \"amount\": 800}, {\"transaction-id\": 1540, \"amount\": 863}, {\"transaction-id\": 1606, \"amount\": 861}, {\"transaction-id\": 1609, \"amount\": 891}, {\"transaction-id\": 1763, \"amount\": 834}, {\"transaction-id\": 1792, \"amount\": 867}, {\"transaction-id\": 1870, \"amount\": 621}, {\"transaction-id\": 1915, \"amount\": 743}, {\"transaction-id\": 1966, \"amount\": 742}, {\"transaction-id\": 2036, \"amount\": 887}, {\"transaction-id\": 2043, \"amount\": 844}, {\"transaction-id\": 2072, \"amount\": 905}, {\"transaction-id\": 2236, \"amount\": 831}, {\"transaction-id\": 2304, \"amount\": 723}, {\"transaction-id\": 2421, \"amount\": 834}, {\"transaction-id\": 2424, \"amount\": 952}, {\"transaction-id\": 2585, \"amount\": 821}, {\"transaction-id\": 2718, \"amount\": 815}, {\"transaction-id\": 2724, \"amount\": 911}, {\"transaction-id\": 2757, \"amount\": 850}, {\"transaction-id\": 2832, \"amount\": 998}, {\"transaction-id\": 2838, \"amount\": 837}, {\"transaction-id\": 2867, \"amount\": 907}, {\"transaction-id\": 2980, \"amount\": 891}, {\"transaction-id\": 3087, \"amount\": 866}, {\"transaction-id\": 3246, \"amount\": 881}, {\"transaction-id\": 3591, \"amount\": 802}, {\"transaction-id\": 3618, \"amount\": 741}, {\"transaction-id\": 3636, \"amount\": 888}, {\"transaction-id\": 3702, \"amount\": 866}, {\"transaction-id\": 4016, \"amount\": 775}, {\"transaction-id\": 4058, \"amount\": 869}, {\"transaction-id\": 4204, \"amount\": 823}, {\"transaction-id\": 4226, \"amount\": 900}, {\"transaction-id\": 4301, \"amount\": 854}, {\"transaction-id\": 4367, \"amount\": 822}, {\"transaction-id\": 4499, \"amount\": 867}, {\"transaction-id\": 4597, \"amount\": 857}, {\"transaction-id\": 4739, \"amount\": 823}, {\"transaction-id\": 4743, \"amount\": 882}, {\"transaction-id\": 5005, \"amount\": 728}, {\"transaction-id\": 5012, \"amount\": 898}, {\"transaction-id\": 5023, \"amount\": 998}, {\"transaction-id\": 5062, \"amount\": 955}, {\"transaction-id\": 5155, \"amount\": 838}, {\"transaction-id\": 5182, \"amount\": 968}, {\"transaction-id\": 5206, \"amount\": 745}, {\"transaction-id\": 5615, \"amount\": 823}, {\"transaction-id\": 5720, \"amount\": 856}, {\"transaction-id\": 5739, \"amount\": 761}, {\"transaction-id\": 5850, \"amount\": 910}, {\"transaction-id\": 5913, \"amount\": 904}, {\"transaction-id\": 5944, \"amount\": 805}, {\"transaction-id\": 6127, \"amount\": 786}, {\"transaction-id\": 6290, \"amount\": 775}, {\"transaction-id\": 6446, \"amount\": 822}, {\"transaction-id\": 6452, \"amount\": 772}, {\"transaction-id\": 6652, \"amount\": 771}, {\"transaction-id\": 6771, \"amount\": 774}, {\"transaction-id\": 6793, \"amount\": 959}, {\"transaction-id\": 6988, \"amount\": 960}, {\"transaction-id\": 7173, \"amount\": 937}, {\"transaction-id\": 7180, \"amount\": 918}, {\"transaction-id\": 7244, \"amount\": 851}, {\"transaction-id\": 7245, \"amount\": 852}, {\"transaction-id\": 7258, \"amount\": 1065}, {\"transaction-id\": 7486, \"amount\": 846}, {\"transaction-id\": 7513, \"amount\": 950}, {\"transaction-id\": 7520, \"amount\": 933}, {\"transaction-id\": 7702, \"amount\": 752}, {\"transaction-id\": 7795, \"amount\": 992}, {\"transaction-id\": 7906, \"amount\": 769}, {\"transaction-id\": 7967, \"amount\": 905}, {\"transaction-id\": 7983, \"amount\": 774}, {\"transaction-id\": 8085, \"amount\": 935}, {\"transaction-id\": 8103, \"amount\": 1041}, {\"transaction-id\": 8422, \"amount\": 842}, {\"transaction-id\": 8484, \"amount\": 873}, {\"transaction-id\": 8539, \"amount\": 872}, {\"transaction-id\": 8618, \"amount\": 862}, {\"transaction-id\": 8656, \"amount\": 633}, {\"transaction-id\": 8922, \"amount\": 902}, {\"transaction-id\": 8988, \"amount\": 869}, {\"transaction-id\": 9335, \"amount\": 827}, {\"transaction-id\": 9464, \"amount\": 778}, {\"transaction-id\": 9536, \"amount\": 752}, {\"transaction-id\": 9544, \"amount\": 879}, {\"transaction-id\": 9594, \"amount\": 793}, {\"transaction-id\": 9638, \"amount\": 757}, {\"transaction-id\": 9659, \"amount\": 727}, {\"transaction-id\": 9745, \"amount\": 942}, {\"transaction-id\": 9755, \"amount\": 849}, {\"transaction-id\": 9785, \"amount\": 783}, {\"transaction-id\": 9911, \"amount\": 812}, {\"transaction-id\": 9980, \"amount\": 846}]}\\n',\n",
       " '{\"id\": 1, \"name\": \"Quinn\", \"transactions\": [{\"transaction-id\": 1658, \"amount\": 201}, {\"transaction-id\": 1662, \"amount\": 197}, {\"transaction-id\": 1717, \"amount\": 199}, {\"transaction-id\": 2332, \"amount\": 191}, {\"transaction-id\": 2852, \"amount\": 196}, {\"transaction-id\": 3060, \"amount\": 195}, {\"transaction-id\": 3725, \"amount\": 194}, {\"transaction-id\": 3798, \"amount\": 192}, {\"transaction-id\": 6045, \"amount\": 189}, {\"transaction-id\": 6753, \"amount\": 186}, {\"transaction-id\": 6778, \"amount\": 178}, {\"transaction-id\": 6929, \"amount\": 197}, {\"transaction-id\": 7954, \"amount\": 190}, {\"transaction-id\": 8065, \"amount\": 204}, {\"transaction-id\": 8553, \"amount\": 180}, {\"transaction-id\": 9195, \"amount\": 175}, {\"transaction-id\": 9386, \"amount\": 206}, {\"transaction-id\": 9850, \"amount\": 190}]}\\n',\n",
       " '{\"id\": 2, \"name\": \"Dan\", \"transactions\": [{\"transaction-id\": 839, \"amount\": -199}, {\"transaction-id\": 983, \"amount\": -270}, {\"transaction-id\": 1666, \"amount\": -352}, {\"transaction-id\": 1732, \"amount\": -411}, {\"transaction-id\": 2800, \"amount\": -30}, {\"transaction-id\": 3179, \"amount\": -164}, {\"transaction-id\": 3249, \"amount\": -279}, {\"transaction-id\": 3292, \"amount\": -201}, {\"transaction-id\": 3322, \"amount\": 161}, {\"transaction-id\": 3492, \"amount\": -429}, {\"transaction-id\": 3799, \"amount\": -552}, {\"transaction-id\": 4001, \"amount\": -275}, {\"transaction-id\": 4165, \"amount\": -434}, {\"transaction-id\": 4189, \"amount\": -355}, {\"transaction-id\": 4217, \"amount\": -356}, {\"transaction-id\": 4525, \"amount\": -239}, {\"transaction-id\": 5079, \"amount\": -549}, {\"transaction-id\": 5246, \"amount\": -515}, {\"transaction-id\": 5740, \"amount\": -211}, {\"transaction-id\": 6032, \"amount\": -211}, {\"transaction-id\": 6621, \"amount\": -215}, {\"transaction-id\": 6686, \"amount\": -489}, {\"transaction-id\": 6733, \"amount\": -336}, {\"transaction-id\": 7048, \"amount\": -172}, {\"transaction-id\": 7240, \"amount\": -265}, {\"transaction-id\": 8167, \"amount\": -426}, {\"transaction-id\": 8463, \"amount\": -155}, {\"transaction-id\": 8573, \"amount\": -405}, {\"transaction-id\": 9132, \"amount\": -333}, {\"transaction-id\": 9197, \"amount\": -327}, {\"transaction-id\": 9652, \"amount\": -420}, {\"transaction-id\": 9957, \"amount\": -173}]}\\n')"
      ]
     },
     "execution_count": 1,
     "metadata": {},
     "output_type": "execute_result"
    }
   ],
   "source": [
    "filename = os.path.join('data', 'accounts.*.json.gz')\n",
    "lines = db.read_text(filename)\n",
    "lines.take(3)"
   ]
  },
  {
   "cell_type": "markdown",
   "metadata": {},
   "source": [
    "Our data comes out of the file as lines of text. Notice that file decompression happened automatically. We can make this data look more reasonable by mapping the `json.loads` function onto our bag."
   ]
  },
  {
   "cell_type": "code",
   "execution_count": 10,
   "metadata": {
    "execution": {
     "iopub.execute_input": "2021-01-13T23:27:27.019137Z",
     "iopub.status.busy": "2021-01-13T23:27:27.018791Z",
     "iopub.status.idle": "2021-01-13T23:27:27.043437Z",
     "shell.execute_reply": "2021-01-13T23:27:27.043959Z"
    }
   },
   "outputs": [
    {
     "data": {
      "text/plain": [
       "({'id': 0,\n",
       "  'name': 'Michael',\n",
       "  'transactions': [{'transaction-id': 25, 'amount': 774},\n",
       "   {'transaction-id': 61, 'amount': 735},\n",
       "   {'transaction-id': 339, 'amount': 951},\n",
       "   {'transaction-id': 360, 'amount': 829},\n",
       "   {'transaction-id': 416, 'amount': 910},\n",
       "   {'transaction-id': 490, 'amount': 902},\n",
       "   {'transaction-id': 495, 'amount': 722},\n",
       "   {'transaction-id': 614, 'amount': 729},\n",
       "   {'transaction-id': 670, 'amount': 805},\n",
       "   {'transaction-id': 859, 'amount': 854},\n",
       "   {'transaction-id': 1126, 'amount': 837},\n",
       "   {'transaction-id': 1240, 'amount': 1079},\n",
       "   {'transaction-id': 1449, 'amount': 784},\n",
       "   {'transaction-id': 1487, 'amount': 800},\n",
       "   {'transaction-id': 1540, 'amount': 863},\n",
       "   {'transaction-id': 1606, 'amount': 861},\n",
       "   {'transaction-id': 1609, 'amount': 891},\n",
       "   {'transaction-id': 1763, 'amount': 834},\n",
       "   {'transaction-id': 1792, 'amount': 867},\n",
       "   {'transaction-id': 1870, 'amount': 621},\n",
       "   {'transaction-id': 1915, 'amount': 743},\n",
       "   {'transaction-id': 1966, 'amount': 742},\n",
       "   {'transaction-id': 2036, 'amount': 887},\n",
       "   {'transaction-id': 2043, 'amount': 844},\n",
       "   {'transaction-id': 2072, 'amount': 905},\n",
       "   {'transaction-id': 2236, 'amount': 831},\n",
       "   {'transaction-id': 2304, 'amount': 723},\n",
       "   {'transaction-id': 2421, 'amount': 834},\n",
       "   {'transaction-id': 2424, 'amount': 952},\n",
       "   {'transaction-id': 2585, 'amount': 821},\n",
       "   {'transaction-id': 2718, 'amount': 815},\n",
       "   {'transaction-id': 2724, 'amount': 911},\n",
       "   {'transaction-id': 2757, 'amount': 850},\n",
       "   {'transaction-id': 2832, 'amount': 998},\n",
       "   {'transaction-id': 2838, 'amount': 837},\n",
       "   {'transaction-id': 2867, 'amount': 907},\n",
       "   {'transaction-id': 2980, 'amount': 891},\n",
       "   {'transaction-id': 3087, 'amount': 866},\n",
       "   {'transaction-id': 3246, 'amount': 881},\n",
       "   {'transaction-id': 3591, 'amount': 802},\n",
       "   {'transaction-id': 3618, 'amount': 741},\n",
       "   {'transaction-id': 3636, 'amount': 888},\n",
       "   {'transaction-id': 3702, 'amount': 866},\n",
       "   {'transaction-id': 4016, 'amount': 775},\n",
       "   {'transaction-id': 4058, 'amount': 869},\n",
       "   {'transaction-id': 4204, 'amount': 823},\n",
       "   {'transaction-id': 4226, 'amount': 900},\n",
       "   {'transaction-id': 4301, 'amount': 854},\n",
       "   {'transaction-id': 4367, 'amount': 822},\n",
       "   {'transaction-id': 4499, 'amount': 867},\n",
       "   {'transaction-id': 4597, 'amount': 857},\n",
       "   {'transaction-id': 4739, 'amount': 823},\n",
       "   {'transaction-id': 4743, 'amount': 882},\n",
       "   {'transaction-id': 5005, 'amount': 728},\n",
       "   {'transaction-id': 5012, 'amount': 898},\n",
       "   {'transaction-id': 5023, 'amount': 998},\n",
       "   {'transaction-id': 5062, 'amount': 955},\n",
       "   {'transaction-id': 5155, 'amount': 838},\n",
       "   {'transaction-id': 5182, 'amount': 968},\n",
       "   {'transaction-id': 5206, 'amount': 745},\n",
       "   {'transaction-id': 5615, 'amount': 823},\n",
       "   {'transaction-id': 5720, 'amount': 856},\n",
       "   {'transaction-id': 5739, 'amount': 761},\n",
       "   {'transaction-id': 5850, 'amount': 910},\n",
       "   {'transaction-id': 5913, 'amount': 904},\n",
       "   {'transaction-id': 5944, 'amount': 805},\n",
       "   {'transaction-id': 6127, 'amount': 786},\n",
       "   {'transaction-id': 6290, 'amount': 775},\n",
       "   {'transaction-id': 6446, 'amount': 822},\n",
       "   {'transaction-id': 6452, 'amount': 772},\n",
       "   {'transaction-id': 6652, 'amount': 771},\n",
       "   {'transaction-id': 6771, 'amount': 774},\n",
       "   {'transaction-id': 6793, 'amount': 959},\n",
       "   {'transaction-id': 6988, 'amount': 960},\n",
       "   {'transaction-id': 7173, 'amount': 937},\n",
       "   {'transaction-id': 7180, 'amount': 918},\n",
       "   {'transaction-id': 7244, 'amount': 851},\n",
       "   {'transaction-id': 7245, 'amount': 852},\n",
       "   {'transaction-id': 7258, 'amount': 1065},\n",
       "   {'transaction-id': 7486, 'amount': 846},\n",
       "   {'transaction-id': 7513, 'amount': 950},\n",
       "   {'transaction-id': 7520, 'amount': 933},\n",
       "   {'transaction-id': 7702, 'amount': 752},\n",
       "   {'transaction-id': 7795, 'amount': 992},\n",
       "   {'transaction-id': 7906, 'amount': 769},\n",
       "   {'transaction-id': 7967, 'amount': 905},\n",
       "   {'transaction-id': 7983, 'amount': 774},\n",
       "   {'transaction-id': 8085, 'amount': 935},\n",
       "   {'transaction-id': 8103, 'amount': 1041},\n",
       "   {'transaction-id': 8422, 'amount': 842},\n",
       "   {'transaction-id': 8484, 'amount': 873},\n",
       "   {'transaction-id': 8539, 'amount': 872},\n",
       "   {'transaction-id': 8618, 'amount': 862},\n",
       "   {'transaction-id': 8656, 'amount': 633},\n",
       "   {'transaction-id': 8922, 'amount': 902},\n",
       "   {'transaction-id': 8988, 'amount': 869},\n",
       "   {'transaction-id': 9335, 'amount': 827},\n",
       "   {'transaction-id': 9464, 'amount': 778},\n",
       "   {'transaction-id': 9536, 'amount': 752},\n",
       "   {'transaction-id': 9544, 'amount': 879},\n",
       "   {'transaction-id': 9594, 'amount': 793},\n",
       "   {'transaction-id': 9638, 'amount': 757},\n",
       "   {'transaction-id': 9659, 'amount': 727},\n",
       "   {'transaction-id': 9745, 'amount': 942},\n",
       "   {'transaction-id': 9755, 'amount': 849},\n",
       "   {'transaction-id': 9785, 'amount': 783},\n",
       "   {'transaction-id': 9911, 'amount': 812},\n",
       "   {'transaction-id': 9980, 'amount': 846}]},\n",
       " {'id': 1,\n",
       "  'name': 'Quinn',\n",
       "  'transactions': [{'transaction-id': 1658, 'amount': 201},\n",
       "   {'transaction-id': 1662, 'amount': 197},\n",
       "   {'transaction-id': 1717, 'amount': 199},\n",
       "   {'transaction-id': 2332, 'amount': 191},\n",
       "   {'transaction-id': 2852, 'amount': 196},\n",
       "   {'transaction-id': 3060, 'amount': 195},\n",
       "   {'transaction-id': 3725, 'amount': 194},\n",
       "   {'transaction-id': 3798, 'amount': 192},\n",
       "   {'transaction-id': 6045, 'amount': 189},\n",
       "   {'transaction-id': 6753, 'amount': 186},\n",
       "   {'transaction-id': 6778, 'amount': 178},\n",
       "   {'transaction-id': 6929, 'amount': 197},\n",
       "   {'transaction-id': 7954, 'amount': 190},\n",
       "   {'transaction-id': 8065, 'amount': 204},\n",
       "   {'transaction-id': 8553, 'amount': 180},\n",
       "   {'transaction-id': 9195, 'amount': 175},\n",
       "   {'transaction-id': 9386, 'amount': 206},\n",
       "   {'transaction-id': 9850, 'amount': 190}]},\n",
       " {'id': 2,\n",
       "  'name': 'Dan',\n",
       "  'transactions': [{'transaction-id': 839, 'amount': -199},\n",
       "   {'transaction-id': 983, 'amount': -270},\n",
       "   {'transaction-id': 1666, 'amount': -352},\n",
       "   {'transaction-id': 1732, 'amount': -411},\n",
       "   {'transaction-id': 2800, 'amount': -30},\n",
       "   {'transaction-id': 3179, 'amount': -164},\n",
       "   {'transaction-id': 3249, 'amount': -279},\n",
       "   {'transaction-id': 3292, 'amount': -201},\n",
       "   {'transaction-id': 3322, 'amount': 161},\n",
       "   {'transaction-id': 3492, 'amount': -429},\n",
       "   {'transaction-id': 3799, 'amount': -552},\n",
       "   {'transaction-id': 4001, 'amount': -275},\n",
       "   {'transaction-id': 4165, 'amount': -434},\n",
       "   {'transaction-id': 4189, 'amount': -355},\n",
       "   {'transaction-id': 4217, 'amount': -356},\n",
       "   {'transaction-id': 4525, 'amount': -239},\n",
       "   {'transaction-id': 5079, 'amount': -549},\n",
       "   {'transaction-id': 5246, 'amount': -515},\n",
       "   {'transaction-id': 5740, 'amount': -211},\n",
       "   {'transaction-id': 6032, 'amount': -211},\n",
       "   {'transaction-id': 6621, 'amount': -215},\n",
       "   {'transaction-id': 6686, 'amount': -489},\n",
       "   {'transaction-id': 6733, 'amount': -336},\n",
       "   {'transaction-id': 7048, 'amount': -172},\n",
       "   {'transaction-id': 7240, 'amount': -265},\n",
       "   {'transaction-id': 8167, 'amount': -426},\n",
       "   {'transaction-id': 8463, 'amount': -155},\n",
       "   {'transaction-id': 8573, 'amount': -405},\n",
       "   {'transaction-id': 9132, 'amount': -333},\n",
       "   {'transaction-id': 9197, 'amount': -327},\n",
       "   {'transaction-id': 9652, 'amount': -420},\n",
       "   {'transaction-id': 9957, 'amount': -173}]})"
      ]
     },
     "execution_count": 1,
     "metadata": {},
     "output_type": "execute_result"
    }
   ],
   "source": [
    "import json\n",
    "js = lines.map(json.loads)\n",
    "# take: inspect first few elements\n",
    "js.take(3)"
   ]
  },
  {
   "cell_type": "markdown",
   "metadata": {},
   "source": [
    "### Basic Queries"
   ]
  },
  {
   "cell_type": "markdown",
   "metadata": {},
   "source": [
    "Once we parse our JSON data into proper Python objects (`dict`s, `list`s, etc.) we can perform more interesting queries by creating small Python functions to run on our data."
   ]
  },
  {
   "cell_type": "code",
   "execution_count": 11,
   "metadata": {
    "execution": {
     "iopub.execute_input": "2021-01-13T23:27:27.049367Z",
     "iopub.status.busy": "2021-01-13T23:27:27.046917Z",
     "iopub.status.idle": "2021-01-13T23:27:27.075569Z",
     "shell.execute_reply": "2021-01-13T23:27:27.074941Z"
    }
   },
   "outputs": [
    {
     "data": {
      "text/plain": [
       "({'id': 3,\n",
       "  'name': 'Alice',\n",
       "  'transactions': [{'transaction-id': 634, 'amount': -107},\n",
       "   {'transaction-id': 3450, 'amount': -26},\n",
       "   {'transaction-id': 4742, 'amount': -68},\n",
       "   {'transaction-id': 8842, 'amount': -36}]},\n",
       " {'id': 10,\n",
       "  'name': 'Alice',\n",
       "  'transactions': [{'transaction-id': 62, 'amount': 1095},\n",
       "   {'transaction-id': 110, 'amount': 666},\n",
       "   {'transaction-id': 163, 'amount': 399},\n",
       "   {'transaction-id': 583, 'amount': 785},\n",
       "   {'transaction-id': 831, 'amount': 495},\n",
       "   {'transaction-id': 952, 'amount': 839},\n",
       "   {'transaction-id': 1246, 'amount': 806},\n",
       "   {'transaction-id': 1378, 'amount': 592},\n",
       "   {'transaction-id': 1546, 'amount': 77},\n",
       "   {'transaction-id': 1765, 'amount': 512},\n",
       "   {'transaction-id': 2214, 'amount': 504},\n",
       "   {'transaction-id': 2327, 'amount': 220},\n",
       "   {'transaction-id': 2476, 'amount': 407},\n",
       "   {'transaction-id': 3219, 'amount': 1190},\n",
       "   {'transaction-id': 3426, 'amount': 58},\n",
       "   {'transaction-id': 3719, 'amount': 419},\n",
       "   {'transaction-id': 3859, 'amount': 504},\n",
       "   {'transaction-id': 3896, 'amount': -6},\n",
       "   {'transaction-id': 4096, 'amount': 676},\n",
       "   {'transaction-id': 4227, 'amount': 509},\n",
       "   {'transaction-id': 4260, 'amount': 176},\n",
       "   {'transaction-id': 4479, 'amount': -11},\n",
       "   {'transaction-id': 4677, 'amount': 45},\n",
       "   {'transaction-id': 4876, 'amount': -43},\n",
       "   {'transaction-id': 5000, 'amount': 821},\n",
       "   {'transaction-id': 5226, 'amount': -43},\n",
       "   {'transaction-id': 5415, 'amount': 231},\n",
       "   {'transaction-id': 5805, 'amount': -223},\n",
       "   {'transaction-id': 6011, 'amount': 378},\n",
       "   {'transaction-id': 6053, 'amount': 719},\n",
       "   {'transaction-id': 6065, 'amount': 104},\n",
       "   {'transaction-id': 7453, 'amount': -274},\n",
       "   {'transaction-id': 7558, 'amount': 432},\n",
       "   {'transaction-id': 7624, 'amount': 371},\n",
       "   {'transaction-id': 8019, 'amount': 1561},\n",
       "   {'transaction-id': 8029, 'amount': 627},\n",
       "   {'transaction-id': 8351, 'amount': 598},\n",
       "   {'transaction-id': 8378, 'amount': 765},\n",
       "   {'transaction-id': 8388, 'amount': 570},\n",
       "   {'transaction-id': 8396, 'amount': 1048},\n",
       "   {'transaction-id': 8600, 'amount': 733},\n",
       "   {'transaction-id': 8755, 'amount': 734},\n",
       "   {'transaction-id': 8870, 'amount': -94},\n",
       "   {'transaction-id': 9261, 'amount': 44},\n",
       "   {'transaction-id': 9413, 'amount': 502},\n",
       "   {'transaction-id': 9571, 'amount': -146},\n",
       "   {'transaction-id': 9654, 'amount': 260},\n",
       "   {'transaction-id': 9679, 'amount': 765},\n",
       "   {'transaction-id': 9706, 'amount': 265},\n",
       "   {'transaction-id': 9808, 'amount': 488},\n",
       "   {'transaction-id': 9819, 'amount': 755}]},\n",
       " {'id': 41,\n",
       "  'name': 'Alice',\n",
       "  'transactions': [{'transaction-id': 1985, 'amount': 1785},\n",
       "   {'transaction-id': 2572, 'amount': 2094},\n",
       "   {'transaction-id': 2818, 'amount': 2084},\n",
       "   {'transaction-id': 3300, 'amount': 1833},\n",
       "   {'transaction-id': 4747, 'amount': 2090},\n",
       "   {'transaction-id': 5941, 'amount': 2079},\n",
       "   {'transaction-id': 6475, 'amount': 1746},\n",
       "   {'transaction-id': 8661, 'amount': 1930},\n",
       "   {'transaction-id': 9380, 'amount': 1709},\n",
       "   {'transaction-id': 9715, 'amount': 1709},\n",
       "   {'transaction-id': 9859, 'amount': 1665}]},\n",
       " {'id': 76,\n",
       "  'name': 'Alice',\n",
       "  'transactions': [{'transaction-id': 24, 'amount': 288},\n",
       "   {'transaction-id': 378, 'amount': 201},\n",
       "   {'transaction-id': 454, 'amount': 118},\n",
       "   {'transaction-id': 566, 'amount': 354},\n",
       "   {'transaction-id': 661, 'amount': 323},\n",
       "   {'transaction-id': 756, 'amount': 199},\n",
       "   {'transaction-id': 911, 'amount': 395},\n",
       "   {'transaction-id': 1582, 'amount': 91},\n",
       "   {'transaction-id': 1919, 'amount': 237},\n",
       "   {'transaction-id': 2406, 'amount': 134},\n",
       "   {'transaction-id': 2466, 'amount': 155},\n",
       "   {'transaction-id': 2733, 'amount': 131},\n",
       "   {'transaction-id': 2834, 'amount': 308},\n",
       "   {'transaction-id': 2979, 'amount': 353},\n",
       "   {'transaction-id': 3110, 'amount': 288},\n",
       "   {'transaction-id': 3125, 'amount': 495},\n",
       "   {'transaction-id': 3724, 'amount': 351},\n",
       "   {'transaction-id': 3839, 'amount': 332},\n",
       "   {'transaction-id': 3919, 'amount': 84},\n",
       "   {'transaction-id': 4152, 'amount': 253},\n",
       "   {'transaction-id': 4268, 'amount': 180},\n",
       "   {'transaction-id': 4362, 'amount': 319},\n",
       "   {'transaction-id': 4586, 'amount': 369},\n",
       "   {'transaction-id': 4900, 'amount': 198},\n",
       "   {'transaction-id': 5256, 'amount': 282},\n",
       "   {'transaction-id': 5324, 'amount': 119},\n",
       "   {'transaction-id': 5455, 'amount': 283},\n",
       "   {'transaction-id': 5508, 'amount': 55},\n",
       "   {'transaction-id': 5546, 'amount': 33},\n",
       "   {'transaction-id': 5632, 'amount': 199},\n",
       "   {'transaction-id': 5814, 'amount': 318},\n",
       "   {'transaction-id': 5887, 'amount': 405},\n",
       "   {'transaction-id': 6078, 'amount': 205},\n",
       "   {'transaction-id': 6107, 'amount': 104},\n",
       "   {'transaction-id': 6140, 'amount': 153},\n",
       "   {'transaction-id': 6147, 'amount': 313},\n",
       "   {'transaction-id': 6683, 'amount': 278},\n",
       "   {'transaction-id': 7159, 'amount': 443},\n",
       "   {'transaction-id': 7190, 'amount': 388},\n",
       "   {'transaction-id': 7237, 'amount': 338},\n",
       "   {'transaction-id': 7333, 'amount': 369},\n",
       "   {'transaction-id': 7384, 'amount': 370},\n",
       "   {'transaction-id': 7507, 'amount': 252},\n",
       "   {'transaction-id': 7774, 'amount': 75},\n",
       "   {'transaction-id': 7863, 'amount': 437},\n",
       "   {'transaction-id': 7996, 'amount': 365},\n",
       "   {'transaction-id': 8203, 'amount': 195},\n",
       "   {'transaction-id': 8300, 'amount': 229},\n",
       "   {'transaction-id': 8694, 'amount': 209},\n",
       "   {'transaction-id': 8716, 'amount': 399},\n",
       "   {'transaction-id': 8849, 'amount': 166},\n",
       "   {'transaction-id': 8928, 'amount': 233},\n",
       "   {'transaction-id': 9011, 'amount': 260},\n",
       "   {'transaction-id': 9078, 'amount': 399},\n",
       "   {'transaction-id': 9117, 'amount': 256},\n",
       "   {'transaction-id': 9164, 'amount': 231},\n",
       "   {'transaction-id': 9424, 'amount': 245},\n",
       "   {'transaction-id': 9448, 'amount': 232},\n",
       "   {'transaction-id': 9599, 'amount': 309},\n",
       "   {'transaction-id': 9926, 'amount': 360}]},\n",
       " {'id': 87,\n",
       "  'name': 'Alice',\n",
       "  'transactions': [{'transaction-id': 145, 'amount': 261},\n",
       "   {'transaction-id': 312, 'amount': 284},\n",
       "   {'transaction-id': 434, 'amount': 329},\n",
       "   {'transaction-id': 519, 'amount': 318},\n",
       "   {'transaction-id': 525, 'amount': 296},\n",
       "   {'transaction-id': 542, 'amount': 322},\n",
       "   {'transaction-id': 620, 'amount': 258},\n",
       "   {'transaction-id': 683, 'amount': 310},\n",
       "   {'transaction-id': 757, 'amount': 305},\n",
       "   {'transaction-id': 851, 'amount': 332},\n",
       "   {'transaction-id': 984, 'amount': 303},\n",
       "   {'transaction-id': 1369, 'amount': 327},\n",
       "   {'transaction-id': 1654, 'amount': 313},\n",
       "   {'transaction-id': 1960, 'amount': 358},\n",
       "   {'transaction-id': 2196, 'amount': 307},\n",
       "   {'transaction-id': 2407, 'amount': 272},\n",
       "   {'transaction-id': 2532, 'amount': 299},\n",
       "   {'transaction-id': 2546, 'amount': 258},\n",
       "   {'transaction-id': 2649, 'amount': 361},\n",
       "   {'transaction-id': 2689, 'amount': 335},\n",
       "   {'transaction-id': 2721, 'amount': 290},\n",
       "   {'transaction-id': 2798, 'amount': 325},\n",
       "   {'transaction-id': 2887, 'amount': 290},\n",
       "   {'transaction-id': 3029, 'amount': 275},\n",
       "   {'transaction-id': 3037, 'amount': 311},\n",
       "   {'transaction-id': 3055, 'amount': 302},\n",
       "   {'transaction-id': 3200, 'amount': 327},\n",
       "   {'transaction-id': 3209, 'amount': 329},\n",
       "   {'transaction-id': 3357, 'amount': 308},\n",
       "   {'transaction-id': 3497, 'amount': 277},\n",
       "   {'transaction-id': 3589, 'amount': 262},\n",
       "   {'transaction-id': 3721, 'amount': 283},\n",
       "   {'transaction-id': 3791, 'amount': 290},\n",
       "   {'transaction-id': 3852, 'amount': 313},\n",
       "   {'transaction-id': 3994, 'amount': 271},\n",
       "   {'transaction-id': 4149, 'amount': 292},\n",
       "   {'transaction-id': 4233, 'amount': 277},\n",
       "   {'transaction-id': 4375, 'amount': 250},\n",
       "   {'transaction-id': 4509, 'amount': 321},\n",
       "   {'transaction-id': 4667, 'amount': 311},\n",
       "   {'transaction-id': 4722, 'amount': 310},\n",
       "   {'transaction-id': 5004, 'amount': 384},\n",
       "   {'transaction-id': 5078, 'amount': 305},\n",
       "   {'transaction-id': 5099, 'amount': 269},\n",
       "   {'transaction-id': 5186, 'amount': 326},\n",
       "   {'transaction-id': 5241, 'amount': 280},\n",
       "   {'transaction-id': 5416, 'amount': 296},\n",
       "   {'transaction-id': 5655, 'amount': 297},\n",
       "   {'transaction-id': 5671, 'amount': 301},\n",
       "   {'transaction-id': 6357, 'amount': 338},\n",
       "   {'transaction-id': 6655, 'amount': 300},\n",
       "   {'transaction-id': 6861, 'amount': 324},\n",
       "   {'transaction-id': 7095, 'amount': 313},\n",
       "   {'transaction-id': 7176, 'amount': 332},\n",
       "   {'transaction-id': 7370, 'amount': 322},\n",
       "   {'transaction-id': 7698, 'amount': 285},\n",
       "   {'transaction-id': 7931, 'amount': 283},\n",
       "   {'transaction-id': 7993, 'amount': 353},\n",
       "   {'transaction-id': 8177, 'amount': 300},\n",
       "   {'transaction-id': 8234, 'amount': 369},\n",
       "   {'transaction-id': 8246, 'amount': 337},\n",
       "   {'transaction-id': 8840, 'amount': 300},\n",
       "   {'transaction-id': 9157, 'amount': 294},\n",
       "   {'transaction-id': 9161, 'amount': 344},\n",
       "   {'transaction-id': 9194, 'amount': 304},\n",
       "   {'transaction-id': 9688, 'amount': 303},\n",
       "   {'transaction-id': 9828, 'amount': 251},\n",
       "   {'transaction-id': 9844, 'amount': 353},\n",
       "   {'transaction-id': 9962, 'amount': 306}]})"
      ]
     },
     "execution_count": 1,
     "metadata": {},
     "output_type": "execute_result"
    }
   ],
   "source": [
    "# filter: keep only some elements of the sequence\n",
    "js.filter(lambda record: record['name'] == 'Alice').take(5)"
   ]
  },
  {
   "cell_type": "code",
   "execution_count": 12,
   "metadata": {
    "execution": {
     "iopub.execute_input": "2021-01-13T23:27:27.078236Z",
     "iopub.status.busy": "2021-01-13T23:27:27.077794Z",
     "iopub.status.idle": "2021-01-13T23:27:27.096303Z",
     "shell.execute_reply": "2021-01-13T23:27:27.096012Z"
    }
   },
   "outputs": [
    {
     "data": {
      "text/plain": [
       "({'name': 'Alice', 'count': 4},\n",
       " {'name': 'Alice', 'count': 51},\n",
       " {'name': 'Alice', 'count': 11},\n",
       " {'name': 'Alice', 'count': 60},\n",
       " {'name': 'Alice', 'count': 69})"
      ]
     },
     "execution_count": 1,
     "metadata": {},
     "output_type": "execute_result"
    }
   ],
   "source": [
    "def count_transactions(d):\n",
    "    return {'name': d['name'], 'count': len(d['transactions'])}\n",
    "\n",
    "# map: apply a function to each element\n",
    "(js.filter(lambda record: record['name'] == 'Alice')\n",
    "   .map(count_transactions)\n",
    "   .take(5))"
   ]
  },
  {
   "cell_type": "code",
   "execution_count": 13,
   "metadata": {
    "execution": {
     "iopub.execute_input": "2021-01-13T23:27:27.099617Z",
     "iopub.status.busy": "2021-01-13T23:27:27.098999Z",
     "iopub.status.idle": "2021-01-13T23:27:27.118261Z",
     "shell.execute_reply": "2021-01-13T23:27:27.117694Z"
    }
   },
   "outputs": [
    {
     "data": {
      "text/plain": [
       "(4, 51, 11, 60, 69)"
      ]
     },
     "execution_count": 1,
     "metadata": {},
     "output_type": "execute_result"
    }
   ],
   "source": [
    "# pluck: select a field, as from a dictionary, element[field]\n",
    "(js.filter(lambda record: record['name'] == 'Alice')\n",
    "   .map(count_transactions)\n",
    "   .pluck('count')\n",
    "   .take(5))"
   ]
  },
  {
   "cell_type": "code",
   "execution_count": 14,
   "metadata": {
    "execution": {
     "iopub.execute_input": "2021-01-13T23:27:27.136522Z",
     "iopub.status.busy": "2021-01-13T23:27:27.129556Z",
     "iopub.status.idle": "2021-01-13T23:27:27.439456Z",
     "shell.execute_reply": "2021-01-13T23:27:27.439059Z"
    }
   },
   "outputs": [
    {
     "data": {
      "text/plain": [
       "38.62880886426593"
      ]
     },
     "execution_count": 1,
     "metadata": {},
     "output_type": "execute_result"
    }
   ],
   "source": [
    "# Average number of transactions for all of the Alice entries\n",
    "(js.filter(lambda record: record['name'] == 'Alice')\n",
    "   .map(count_transactions)\n",
    "   .pluck('count')\n",
    "   .mean()\n",
    "   .compute())"
   ]
  },
  {
   "cell_type": "markdown",
   "metadata": {},
   "source": [
    "### Use `flatten` to de-nest"
   ]
  },
  {
   "cell_type": "markdown",
   "metadata": {},
   "source": [
    "In the example below we see the use of `.flatten()` to flatten results.  We compute the average amount for all transactions for all Alices."
   ]
  },
  {
   "cell_type": "code",
   "execution_count": 15,
   "metadata": {
    "execution": {
     "iopub.execute_input": "2021-01-13T23:27:27.443170Z",
     "iopub.status.busy": "2021-01-13T23:27:27.442779Z",
     "iopub.status.idle": "2021-01-13T23:27:27.461395Z",
     "shell.execute_reply": "2021-01-13T23:27:27.460998Z"
    }
   },
   "outputs": [
    {
     "data": {
      "text/plain": [
       "([{'transaction-id': 634, 'amount': -107},\n",
       "  {'transaction-id': 3450, 'amount': -26},\n",
       "  {'transaction-id': 4742, 'amount': -68},\n",
       "  {'transaction-id': 8842, 'amount': -36}],\n",
       " [{'transaction-id': 62, 'amount': 1095},\n",
       "  {'transaction-id': 110, 'amount': 666},\n",
       "  {'transaction-id': 163, 'amount': 399},\n",
       "  {'transaction-id': 583, 'amount': 785},\n",
       "  {'transaction-id': 831, 'amount': 495},\n",
       "  {'transaction-id': 952, 'amount': 839},\n",
       "  {'transaction-id': 1246, 'amount': 806},\n",
       "  {'transaction-id': 1378, 'amount': 592},\n",
       "  {'transaction-id': 1546, 'amount': 77},\n",
       "  {'transaction-id': 1765, 'amount': 512},\n",
       "  {'transaction-id': 2214, 'amount': 504},\n",
       "  {'transaction-id': 2327, 'amount': 220},\n",
       "  {'transaction-id': 2476, 'amount': 407},\n",
       "  {'transaction-id': 3219, 'amount': 1190},\n",
       "  {'transaction-id': 3426, 'amount': 58},\n",
       "  {'transaction-id': 3719, 'amount': 419},\n",
       "  {'transaction-id': 3859, 'amount': 504},\n",
       "  {'transaction-id': 3896, 'amount': -6},\n",
       "  {'transaction-id': 4096, 'amount': 676},\n",
       "  {'transaction-id': 4227, 'amount': 509},\n",
       "  {'transaction-id': 4260, 'amount': 176},\n",
       "  {'transaction-id': 4479, 'amount': -11},\n",
       "  {'transaction-id': 4677, 'amount': 45},\n",
       "  {'transaction-id': 4876, 'amount': -43},\n",
       "  {'transaction-id': 5000, 'amount': 821},\n",
       "  {'transaction-id': 5226, 'amount': -43},\n",
       "  {'transaction-id': 5415, 'amount': 231},\n",
       "  {'transaction-id': 5805, 'amount': -223},\n",
       "  {'transaction-id': 6011, 'amount': 378},\n",
       "  {'transaction-id': 6053, 'amount': 719},\n",
       "  {'transaction-id': 6065, 'amount': 104},\n",
       "  {'transaction-id': 7453, 'amount': -274},\n",
       "  {'transaction-id': 7558, 'amount': 432},\n",
       "  {'transaction-id': 7624, 'amount': 371},\n",
       "  {'transaction-id': 8019, 'amount': 1561},\n",
       "  {'transaction-id': 8029, 'amount': 627},\n",
       "  {'transaction-id': 8351, 'amount': 598},\n",
       "  {'transaction-id': 8378, 'amount': 765},\n",
       "  {'transaction-id': 8388, 'amount': 570},\n",
       "  {'transaction-id': 8396, 'amount': 1048},\n",
       "  {'transaction-id': 8600, 'amount': 733},\n",
       "  {'transaction-id': 8755, 'amount': 734},\n",
       "  {'transaction-id': 8870, 'amount': -94},\n",
       "  {'transaction-id': 9261, 'amount': 44},\n",
       "  {'transaction-id': 9413, 'amount': 502},\n",
       "  {'transaction-id': 9571, 'amount': -146},\n",
       "  {'transaction-id': 9654, 'amount': 260},\n",
       "  {'transaction-id': 9679, 'amount': 765},\n",
       "  {'transaction-id': 9706, 'amount': 265},\n",
       "  {'transaction-id': 9808, 'amount': 488},\n",
       "  {'transaction-id': 9819, 'amount': 755}],\n",
       " [{'transaction-id': 1985, 'amount': 1785},\n",
       "  {'transaction-id': 2572, 'amount': 2094},\n",
       "  {'transaction-id': 2818, 'amount': 2084},\n",
       "  {'transaction-id': 3300, 'amount': 1833},\n",
       "  {'transaction-id': 4747, 'amount': 2090},\n",
       "  {'transaction-id': 5941, 'amount': 2079},\n",
       "  {'transaction-id': 6475, 'amount': 1746},\n",
       "  {'transaction-id': 8661, 'amount': 1930},\n",
       "  {'transaction-id': 9380, 'amount': 1709},\n",
       "  {'transaction-id': 9715, 'amount': 1709},\n",
       "  {'transaction-id': 9859, 'amount': 1665}])"
      ]
     },
     "execution_count": 1,
     "metadata": {},
     "output_type": "execute_result"
    }
   ],
   "source": [
    "(js.filter(lambda record: record['name'] == 'Alice')\n",
    "   .pluck('transactions')\n",
    "   .take(3))"
   ]
  },
  {
   "cell_type": "code",
   "execution_count": 16,
   "metadata": {
    "execution": {
     "iopub.execute_input": "2021-01-13T23:27:27.465974Z",
     "iopub.status.busy": "2021-01-13T23:27:27.464912Z",
     "iopub.status.idle": "2021-01-13T23:27:27.484460Z",
     "shell.execute_reply": "2021-01-13T23:27:27.483973Z"
    }
   },
   "outputs": [
    {
     "data": {
      "text/plain": [
       "({'transaction-id': 634, 'amount': -107},\n",
       " {'transaction-id': 3450, 'amount': -26},\n",
       " {'transaction-id': 4742, 'amount': -68})"
      ]
     },
     "execution_count": 1,
     "metadata": {},
     "output_type": "execute_result"
    }
   ],
   "source": [
    "(js.filter(lambda record: record['name'] == 'Alice')\n",
    "   .pluck('transactions')\n",
    "   .flatten()\n",
    "   .take(3))"
   ]
  },
  {
   "cell_type": "code",
   "execution_count": 17,
   "metadata": {
    "execution": {
     "iopub.execute_input": "2021-01-13T23:27:27.487894Z",
     "iopub.status.busy": "2021-01-13T23:27:27.487291Z",
     "iopub.status.idle": "2021-01-13T23:27:27.504304Z",
     "shell.execute_reply": "2021-01-13T23:27:27.504766Z"
    }
   },
   "outputs": [
    {
     "data": {
      "text/plain": [
       "(-107, -26, -68)"
      ]
     },
     "execution_count": 1,
     "metadata": {},
     "output_type": "execute_result"
    }
   ],
   "source": [
    "(js.filter(lambda record: record['name'] == 'Alice')\n",
    "   .pluck('transactions')\n",
    "   .flatten()\n",
    "   .pluck('amount')\n",
    "   .take(3))"
   ]
  },
  {
   "cell_type": "code",
   "execution_count": 18,
   "metadata": {
    "execution": {
     "iopub.execute_input": "2021-01-13T23:27:27.513247Z",
     "iopub.status.busy": "2021-01-13T23:27:27.512767Z",
     "iopub.status.idle": "2021-01-13T23:27:27.829841Z",
     "shell.execute_reply": "2021-01-13T23:27:27.830263Z"
    }
   },
   "outputs": [
    {
     "data": {
      "text/plain": [
       "863.2411617067049"
      ]
     },
     "execution_count": 1,
     "metadata": {},
     "output_type": "execute_result"
    }
   ],
   "source": [
    "(js.filter(lambda record: record['name'] == 'Alice')\n",
    "   .pluck('transactions')\n",
    "   .flatten()\n",
    "   .pluck('amount')\n",
    "   .mean()\n",
    "   .compute())"
   ]
  },
  {
   "cell_type": "markdown",
   "metadata": {},
   "source": [
    "### Groupby and Foldby"
   ]
  },
  {
   "cell_type": "markdown",
   "metadata": {},
   "source": [
    "Often we want to group data by some function or key.  We can do this either with the `.groupby` method, which is straightforward but forces a full shuffle of the data (expensive) or with the harder-to-use but faster `.foldby` method, which does a streaming combined groupby and reduction.\n",
    "\n",
    "*  `groupby`:  Shuffles data so that all items with the same key are in the same key-value pair\n",
    "*  `foldby`:  Walks through the data accumulating a result per key\n",
    "\n",
    "*Note: the full groupby is particularly bad. In actual workloads you would do well to use `foldby` or switch to `DataFrame`s if possible.*"
   ]
  },
  {
   "cell_type": "markdown",
   "metadata": {},
   "source": [
    "### `groupby`"
   ]
  },
  {
   "cell_type": "markdown",
   "metadata": {},
   "source": [
    "Groupby collects items in your collection so that all items with the same value under some function are collected together into a key-value pair."
   ]
  },
  {
   "cell_type": "code",
   "execution_count": 19,
   "metadata": {
    "execution": {
     "iopub.execute_input": "2021-01-13T23:27:27.837317Z",
     "iopub.status.busy": "2021-01-13T23:27:27.836926Z",
     "iopub.status.idle": "2021-01-13T23:27:27.904515Z",
     "shell.execute_reply": "2021-01-13T23:27:27.904907Z"
    }
   },
   "outputs": [
    {
     "data": {
      "text/plain": [
       "[(7, ['Charlie']), (3, ['Bob', 'Dan']), (5, ['Alice', 'Edith', 'Frank'])]"
      ]
     },
     "execution_count": 1,
     "metadata": {},
     "output_type": "execute_result"
    }
   ],
   "source": [
    "b = db.from_sequence(['Alice', 'Bob', 'Charlie', 'Dan', 'Edith', 'Frank'])\n",
    "b.groupby(len).compute()  # names grouped by length"
   ]
  },
  {
   "cell_type": "code",
   "execution_count": 20,
   "metadata": {
    "execution": {
     "iopub.execute_input": "2021-01-13T23:27:27.908999Z",
     "iopub.status.busy": "2021-01-13T23:27:27.908252Z",
     "iopub.status.idle": "2021-01-13T23:27:28.029817Z",
     "shell.execute_reply": "2021-01-13T23:27:28.030421Z"
    }
   },
   "outputs": [
    {
     "data": {
      "text/plain": [
       "[(0, [0, 2, 4, 6, 8]), (1, [1, 3, 5, 7, 9])]"
      ]
     },
     "execution_count": 1,
     "metadata": {},
     "output_type": "execute_result"
    }
   ],
   "source": [
    "b = db.from_sequence(list(range(10)))\n",
    "b.groupby(lambda x: x % 2).compute()"
   ]
  },
  {
   "cell_type": "code",
   "execution_count": 21,
   "metadata": {
    "execution": {
     "iopub.execute_input": "2021-01-13T23:27:28.040550Z",
     "iopub.status.busy": "2021-01-13T23:27:28.039295Z",
     "iopub.status.idle": "2021-01-13T23:27:28.173785Z",
     "shell.execute_reply": "2021-01-13T23:27:28.173331Z"
    }
   },
   "outputs": [
    {
     "data": {
      "text/plain": [
       "[(0, 8), (1, 9)]"
      ]
     },
     "execution_count": 1,
     "metadata": {},
     "output_type": "execute_result"
    }
   ],
   "source": [
    "b.groupby(lambda x: x % 2).starmap(lambda k, v: (k, max(v))).compute()"
   ]
  },
  {
   "cell_type": "markdown",
   "metadata": {},
   "source": [
    "### `foldby`"
   ]
  },
  {
   "cell_type": "markdown",
   "metadata": {},
   "source": [
    "Foldby can be quite odd at first.  It is similar to the following functions from other libraries:\n",
    "\n",
    "*  [`toolz.reduceby`](http://toolz.readthedocs.io/en/latest/streaming-analytics.html#streaming-split-apply-combine)\n",
    "*  [`pyspark.RDD.combineByKey`](http://abshinn.github.io/python/apache-spark/2014/10/11/using-combinebykey-in-apache-spark/)\n",
    "\n",
    "When using `foldby` you provide \n",
    "\n",
    "1.  A key function on which to group elements\n",
    "2.  A binary operator such as you would pass to `reduce` that you use to perform reduction per each group\n",
    "3.  A combine binary operator that can combine the results of two `reduce` calls on different parts of your dataset.\n",
    "\n",
    "Your reduction must be associative.  It will happen in parallel in each of the partitions of your dataset.  Then all of these intermediate results will be combined by the `combine` binary operator."
   ]
  },
  {
   "cell_type": "code",
   "execution_count": 22,
   "metadata": {
    "execution": {
     "iopub.execute_input": "2021-01-13T23:27:28.180421Z",
     "iopub.status.busy": "2021-01-13T23:27:28.179973Z",
     "iopub.status.idle": "2021-01-13T23:27:28.221327Z",
     "shell.execute_reply": "2021-01-13T23:27:28.220771Z"
    }
   },
   "outputs": [
    {
     "data": {
      "text/plain": [
       "[(0, 8), (1, 9)]"
      ]
     },
     "execution_count": 1,
     "metadata": {},
     "output_type": "execute_result"
    }
   ],
   "source": [
    "b.foldby(lambda x: x % 2, binop=max, combine=max).compute()"
   ]
  },
  {
   "cell_type": "markdown",
   "metadata": {},
   "source": [
    "### Example with account data"
   ]
  },
  {
   "cell_type": "markdown",
   "metadata": {},
   "source": [
    "We find the number of people with the same name."
   ]
  },
  {
   "cell_type": "code",
   "execution_count": 23,
   "metadata": {
    "execution": {
     "iopub.execute_input": "2021-01-13T23:27:28.232198Z",
     "iopub.status.busy": "2021-01-13T23:27:28.231819Z",
     "iopub.status.idle": "2021-01-13T23:27:32.816617Z",
     "shell.execute_reply": "2021-01-13T23:27:32.816121Z"
    }
   },
   "outputs": [
    {
     "name": "stdout",
     "output_type": "stream",
     "text": [
      "[('Alice', 173), ('Alice', 173), ('Alice', 187), ('Alice', 189), ('Bob', 95), ('Bob', 95), ('Bob', 99), ('Bob', 102), ('Charlie', 109), ('Charlie', 111), ('Charlie', 117), ('Charlie', 118), ('Dan', 178), ('Dan', 179), ('Dan', 195), ('Dan', 195), ('Edith', 140), ('Edith', 143), ('Edith', 152), ('Edith', 154), ('Frank', 142), ('Frank', 146), ('Frank', 154), ('Frank', 158), ('George', 132), ('George', 132), ('George', 142), ('George', 143), ('Hannah', 95), ('Hannah', 96), ('Hannah', 104), ('Hannah', 104), ('Ingrid', 120), ('Ingrid', 120), ('Ingrid', 130), ('Ingrid', 130), ('Jerry', 36), ('Jerry', 36), ('Jerry', 39), ('Jerry', 39), ('Kevin', 130), ('Kevin', 130), ('Kevin', 142), ('Kevin', 143), ('Laura', 65), ('Laura', 65), ('Laura', 120), ('Michael', 180), ('Michael', 180), ('Michael', 195), ('Michael', 195), ('Norbert', 53), ('Norbert', 56), ('Norbert', 59), ('Norbert', 59), ('Oliver', 132), ('Oliver', 132), ('Oliver', 143), ('Oliver', 143), ('Patricia', 204), ('Patricia', 204), ('Patricia', 221), ('Patricia', 221), ('Quinn', 96), ('Quinn', 96), ('Quinn', 104), ('Quinn', 104), ('Ray', 141), ('Ray', 143), ('Ray', 153), ('Ray', 154), ('Sarah', 142), ('Sarah', 143), ('Sarah', 261), ('Tim', 31), ('Tim', 33), ('Tim', 33), ('Tim', 35), ('Ursula', 36), ('Ursula', 36), ('Ursula', 39), ('Ursula', 39), ('Victor', 111), ('Victor', 113), ('Victor', 122), ('Victor', 124), ('Wendy', 99), ('Wendy', 103), ('Wendy', 111), ('Wendy', 115), ('Xavier', 120), ('Xavier', 120), ('Xavier', 130), ('Xavier', 130), ('Yvonne', 84), ('Yvonne', 84), ('Yvonne', 91), ('Yvonne', 91), ('Zelda', 94), ('Zelda', 95), ('Zelda', 103), ('Zelda', 104)]\n",
      "CPU times: user 831 ms, sys: 63.3 ms, total: 894 ms\n",
      "Wall time: 4.59 s\n"
     ]
    }
   ],
   "source": [
    "%%time\n",
    "# Warning, this one takes a while...\n",
    "result = js.groupby(lambda item: item['name']).starmap(lambda k, v: (k, len(v))).compute()\n",
    "print(sorted(result))"
   ]
  },
  {
   "cell_type": "code",
   "execution_count": 24,
   "metadata": {
    "execution": {
     "iopub.execute_input": "2021-01-13T23:27:32.825923Z",
     "iopub.status.busy": "2021-01-13T23:27:32.825556Z",
     "iopub.status.idle": "2021-01-13T23:27:33.157386Z",
     "shell.execute_reply": "2021-01-13T23:27:33.157677Z"
    }
   },
   "outputs": [
    {
     "name": "stdout",
     "output_type": "stream",
     "text": [
      "[('Alice', 722), ('Bob', 391), ('Charlie', 455), ('Dan', 747), ('Edith', 589), ('Frank', 600), ('George', 549), ('Hannah', 399), ('Ingrid', 500), ('Jerry', 150), ('Kevin', 545), ('Laura', 250), ('Michael', 750), ('Norbert', 227), ('Oliver', 550), ('Patricia', 850), ('Quinn', 400), ('Ray', 591), ('Sarah', 546), ('Tim', 132), ('Ursula', 150), ('Victor', 470), ('Wendy', 428), ('Xavier', 500), ('Yvonne', 350), ('Zelda', 396)]\n",
      "CPU times: user 83.7 ms, sys: 7.97 ms, total: 91.7 ms\n",
      "Wall time: 335 ms\n"
     ]
    }
   ],
   "source": [
    "%%time\n",
    "# This one is comparatively fast and produces the same result.\n",
    "from operator import add\n",
    "def incr(tot, _):\n",
    "    return tot + 1\n",
    "\n",
    "result = js.foldby(key='name', \n",
    "                   binop=incr, \n",
    "                   initial=0, \n",
    "                   combine=add, \n",
    "                   combine_initial=0).compute()\n",
    "print(sorted(result))"
   ]
  },
  {
   "cell_type": "markdown",
   "metadata": {},
   "source": [
    "### Exercise: compute total amount per name"
   ]
  },
  {
   "cell_type": "markdown",
   "metadata": {},
   "source": [
    "We want to groupby (or foldby) the `name` key, then add up the all of the amounts for each name.\n",
    "\n",
    "Steps\n",
    "\n",
    "1.  Create a small function that, given a dictionary like \n",
    "\n",
    "        {'name': 'Alice', 'transactions': [{'amount': 1, 'id': 123}, {'amount': 2, 'id': 456}]}\n",
    "        \n",
    "    produces the sum of the amounts, e.g. `3`\n",
    "    \n",
    "2.  Slightly change the binary operator of the `foldby` example above so that the binary operator doesn't count the number of entries, but instead accumulates the sum of the amounts."
   ]
  },
  {
   "cell_type": "code",
   "execution_count": 25,
   "metadata": {
    "execution": {
     "iopub.execute_input": "2021-01-13T23:27:33.160456Z",
     "iopub.status.busy": "2021-01-13T23:27:33.160106Z",
     "iopub.status.idle": "2021-01-13T23:27:33.162721Z",
     "shell.execute_reply": "2021-01-13T23:27:33.162999Z"
    }
   },
   "outputs": [],
   "source": [
    "# Your code here..."
   ]
  },
  {
   "cell_type": "markdown",
   "metadata": {},
   "source": [
    "## DataFrames"
   ]
  },
  {
   "cell_type": "markdown",
   "metadata": {},
   "source": [
    "For the same reasons that Pandas is often faster than pure Python, `dask.dataframe` can be faster than `dask.bag`.  We will work more with DataFrames later, but from the point of view of a Bag, it is frequently the end-point of the \"messy\" part of data ingestion—once the data can be made into a data-frame, then complex split-apply-combine logic will become much more straight-forward and efficient.\n",
    "\n",
    "You can transform a bag with a simple tuple or flat dictionary structure into a `dask.dataframe` with the `to_dataframe` method."
   ]
  },
  {
   "cell_type": "code",
   "execution_count": 26,
   "metadata": {
    "execution": {
     "iopub.execute_input": "2021-01-13T23:27:33.165497Z",
     "iopub.status.busy": "2021-01-13T23:27:33.165097Z",
     "iopub.status.idle": "2021-01-13T23:27:33.683141Z",
     "shell.execute_reply": "2021-01-13T23:27:33.683432Z"
    }
   },
   "outputs": [
    {
     "data": {
      "text/html": [
       "<div>\n",
       "<style scoped>\n",
       "    .dataframe tbody tr th:only-of-type {\n",
       "        vertical-align: middle;\n",
       "    }\n",
       "\n",
       "    .dataframe tbody tr th {\n",
       "        vertical-align: top;\n",
       "    }\n",
       "\n",
       "    .dataframe thead th {\n",
       "        text-align: right;\n",
       "    }\n",
       "</style>\n",
       "<table border=\"1\" class=\"dataframe\">\n",
       "  <thead>\n",
       "    <tr style=\"text-align: right;\">\n",
       "      <th></th>\n",
       "      <th>id</th>\n",
       "      <th>name</th>\n",
       "      <th>transactions</th>\n",
       "    </tr>\n",
       "  </thead>\n",
       "  <tbody>\n",
       "    <tr>\n",
       "      <th>0</th>\n",
       "      <td>0</td>\n",
       "      <td>Michael</td>\n",
       "      <td>[{'transaction-id': 25, 'amount': 774}, {'tran...</td>\n",
       "    </tr>\n",
       "    <tr>\n",
       "      <th>1</th>\n",
       "      <td>1</td>\n",
       "      <td>Quinn</td>\n",
       "      <td>[{'transaction-id': 1658, 'amount': 201}, {'tr...</td>\n",
       "    </tr>\n",
       "    <tr>\n",
       "      <th>2</th>\n",
       "      <td>2</td>\n",
       "      <td>Dan</td>\n",
       "      <td>[{'transaction-id': 839, 'amount': -199}, {'tr...</td>\n",
       "    </tr>\n",
       "    <tr>\n",
       "      <th>3</th>\n",
       "      <td>3</td>\n",
       "      <td>Alice</td>\n",
       "      <td>[{'transaction-id': 634, 'amount': -107}, {'tr...</td>\n",
       "    </tr>\n",
       "    <tr>\n",
       "      <th>4</th>\n",
       "      <td>4</td>\n",
       "      <td>Tim</td>\n",
       "      <td>[{'transaction-id': 15, 'amount': 409}, {'tran...</td>\n",
       "    </tr>\n",
       "  </tbody>\n",
       "</table>\n",
       "</div>"
      ],
      "text/plain": [
       "   id     name                                       transactions\n",
       "0   0  Michael  [{'transaction-id': 25, 'amount': 774}, {'tran...\n",
       "1   1    Quinn  [{'transaction-id': 1658, 'amount': 201}, {'tr...\n",
       "2   2      Dan  [{'transaction-id': 839, 'amount': -199}, {'tr...\n",
       "3   3    Alice  [{'transaction-id': 634, 'amount': -107}, {'tr...\n",
       "4   4      Tim  [{'transaction-id': 15, 'amount': 409}, {'tran..."
      ]
     },
     "execution_count": 1,
     "metadata": {},
     "output_type": "execute_result"
    }
   ],
   "source": [
    "df1 = js.to_dataframe()\n",
    "df1.head()"
   ]
  },
  {
   "cell_type": "markdown",
   "metadata": {},
   "source": [
    "This now looks like a well-defined DataFrame, and we can apply Pandas-like computations to it efficiently."
   ]
  },
  {
   "cell_type": "markdown",
   "metadata": {},
   "source": [
    "Using a Dask DataFrame, how long does it take to do our prior computation of numbers of people with the same name?  It turns out that `dask.dataframe.groupby()` beats `dask.bag.groupby()` by more than an order of magnitude; but it still cannot match `dask.bag.foldby()` for this case."
   ]
  },
  {
   "cell_type": "code",
   "execution_count": 27,
   "metadata": {
    "execution": {
     "iopub.execute_input": "2021-01-13T23:27:33.695880Z",
     "iopub.status.busy": "2021-01-13T23:27:33.690731Z",
     "iopub.status.idle": "2021-01-13T23:27:34.709197Z",
     "shell.execute_reply": "2021-01-13T23:27:34.707655Z"
    }
   },
   "outputs": [
    {
     "name": "stdout",
     "output_type": "stream",
     "text": [
      "CPU times: user 105 ms, sys: 10 ms, total: 115 ms\n",
      "Wall time: 1.02 s\n"
     ]
    },
    {
     "data": {
      "text/plain": [
       "name\n",
       "Alice      722\n",
       "Bob        391\n",
       "Charlie    455\n",
       "Dan        747\n",
       "Edith      589\n",
       "Name: id, dtype: int64"
      ]
     },
     "execution_count": 1,
     "metadata": {},
     "output_type": "execute_result"
    }
   ],
   "source": [
    "%time df1.groupby('name').id.count().compute().head()"
   ]
  },
  {
   "cell_type": "markdown",
   "metadata": {},
   "source": [
    "### Denormalization"
   ]
  },
  {
   "cell_type": "markdown",
   "metadata": {},
   "source": [
    "This DataFrame format is less-than-optimal because the `transactions` column is filled with nested data so Pandas has to revert to `object` dtype, which is quite slow in Pandas.  Ideally we want to transform to a dataframe only after we have flattened our data so that each record is a single `int`, `string`, `float`, etc.."
   ]
  },
  {
   "cell_type": "code",
   "execution_count": 28,
   "metadata": {
    "execution": {
     "iopub.execute_input": "2021-01-13T23:27:34.713328Z",
     "iopub.status.busy": "2021-01-13T23:27:34.712939Z",
     "iopub.status.idle": "2021-01-13T23:27:34.731543Z",
     "shell.execute_reply": "2021-01-13T23:27:34.730911Z"
    }
   },
   "outputs": [
    {
     "data": {
      "text/plain": [
       "({'id': 0, 'name': 'Michael', 'amount': 774, 'transaction-id': 25},\n",
       " {'id': 0, 'name': 'Michael', 'amount': 735, 'transaction-id': 61},\n",
       " {'id': 0, 'name': 'Michael', 'amount': 951, 'transaction-id': 339})"
      ]
     },
     "execution_count": 1,
     "metadata": {},
     "output_type": "execute_result"
    }
   ],
   "source": [
    "def denormalize(record):\n",
    "    # returns a list for each person, one item per transaction\n",
    "    return [{'id': record['id'], \n",
    "             'name': record['name'], \n",
    "             'amount': transaction['amount'], \n",
    "             'transaction-id': transaction['transaction-id']}\n",
    "            for transaction in record['transactions']]\n",
    "\n",
    "transactions = js.map(denormalize).flatten()\n",
    "transactions.take(3)"
   ]
  },
  {
   "cell_type": "code",
   "execution_count": 29,
   "metadata": {
    "execution": {
     "iopub.execute_input": "2021-01-13T23:27:34.734584Z",
     "iopub.status.busy": "2021-01-13T23:27:34.733790Z",
     "iopub.status.idle": "2021-01-13T23:27:34.803337Z",
     "shell.execute_reply": "2021-01-13T23:27:34.803677Z"
    }
   },
   "outputs": [
    {
     "data": {
      "text/html": [
       "<div>\n",
       "<style scoped>\n",
       "    .dataframe tbody tr th:only-of-type {\n",
       "        vertical-align: middle;\n",
       "    }\n",
       "\n",
       "    .dataframe tbody tr th {\n",
       "        vertical-align: top;\n",
       "    }\n",
       "\n",
       "    .dataframe thead th {\n",
       "        text-align: right;\n",
       "    }\n",
       "</style>\n",
       "<table border=\"1\" class=\"dataframe\">\n",
       "  <thead>\n",
       "    <tr style=\"text-align: right;\">\n",
       "      <th></th>\n",
       "      <th>id</th>\n",
       "      <th>name</th>\n",
       "      <th>amount</th>\n",
       "      <th>transaction-id</th>\n",
       "    </tr>\n",
       "  </thead>\n",
       "  <tbody>\n",
       "    <tr>\n",
       "      <th>0</th>\n",
       "      <td>0</td>\n",
       "      <td>Michael</td>\n",
       "      <td>774</td>\n",
       "      <td>25</td>\n",
       "    </tr>\n",
       "    <tr>\n",
       "      <th>1</th>\n",
       "      <td>0</td>\n",
       "      <td>Michael</td>\n",
       "      <td>735</td>\n",
       "      <td>61</td>\n",
       "    </tr>\n",
       "    <tr>\n",
       "      <th>2</th>\n",
       "      <td>0</td>\n",
       "      <td>Michael</td>\n",
       "      <td>951</td>\n",
       "      <td>339</td>\n",
       "    </tr>\n",
       "    <tr>\n",
       "      <th>3</th>\n",
       "      <td>0</td>\n",
       "      <td>Michael</td>\n",
       "      <td>829</td>\n",
       "      <td>360</td>\n",
       "    </tr>\n",
       "    <tr>\n",
       "      <th>4</th>\n",
       "      <td>0</td>\n",
       "      <td>Michael</td>\n",
       "      <td>910</td>\n",
       "      <td>416</td>\n",
       "    </tr>\n",
       "  </tbody>\n",
       "</table>\n",
       "</div>"
      ],
      "text/plain": [
       "   id     name  amount  transaction-id\n",
       "0   0  Michael     774              25\n",
       "1   0  Michael     735              61\n",
       "2   0  Michael     951             339\n",
       "3   0  Michael     829             360\n",
       "4   0  Michael     910             416"
      ]
     },
     "execution_count": 1,
     "metadata": {},
     "output_type": "execute_result"
    }
   ],
   "source": [
    "df = transactions.to_dataframe()\n",
    "df.head()"
   ]
  },
  {
   "cell_type": "code",
   "execution_count": 30,
   "metadata": {
    "execution": {
     "iopub.execute_input": "2021-01-13T23:27:34.814785Z",
     "iopub.status.busy": "2021-01-13T23:27:34.814319Z",
     "iopub.status.idle": "2021-01-13T23:27:35.556499Z",
     "shell.execute_reply": "2021-01-13T23:27:35.556141Z"
    }
   },
   "outputs": [
    {
     "name": "stdout",
     "output_type": "stream",
     "text": [
      "CPU times: user 101 ms, sys: 3.99 ms, total: 105 ms\n",
      "Wall time: 743 ms\n"
     ]
    },
    {
     "data": {
      "text/plain": [
       "name\n",
       "Alice       27890\n",
       "Bob         17437\n",
       "Charlie     14810\n",
       "Dan         32724\n",
       "Edith       24902\n",
       "Frank       26707\n",
       "George      24625\n",
       "Hannah      16628\n",
       "Ingrid       7586\n",
       "Jerry        6640\n",
       "Kevin       17507\n",
       "Laura       22717\n",
       "Michael     32681\n",
       "Norbert      4631\n",
       "Oliver      15254\n",
       "Patricia    42384\n",
       "Quinn       18159\n",
       "Ray         15845\n",
       "Sarah       19215\n",
       "Tim          4551\n",
       "Ursula      12388\n",
       "Victor      25496\n",
       "Wendy       15842\n",
       "Xavier      23873\n",
       "Yvonne      21305\n",
       "Zelda        8203\n",
       "Name: transaction-id, dtype: int64"
      ]
     },
     "execution_count": 1,
     "metadata": {},
     "output_type": "execute_result"
    }
   ],
   "source": [
    "%%time\n",
    "# number of transactions per name\n",
    "# note that the time here includes the data load and ingestion\n",
    "df.groupby('name')['transaction-id'].count().compute()"
   ]
  },
  {
   "cell_type": "markdown",
   "metadata": {},
   "source": [
    "## Limitations"
   ]
  },
  {
   "cell_type": "markdown",
   "metadata": {},
   "source": [
    "Bags provide very general computation (any Python function.)  This generality\n",
    "comes at cost.  Bags have the following known limitations\n",
    "\n",
    "1.  Bag operations tend to be slower than array/dataframe computations in the\n",
    "    same way that Python tends to be slower than NumPy/Pandas\n",
    "2.  ``Bag.groupby`` is slow.  You should try to use ``Bag.foldby`` if possible.\n",
    "    Using ``Bag.foldby`` requires more thought. Even better, consider creating\n",
    "    a normalised dataframe."
   ]
  },
  {
   "cell_type": "markdown",
   "metadata": {},
   "source": [
    "## Learn More\n",
    "\n",
    "* [Bag documentation](https://docs.dask.org/en/latest/bag.html)\n",
    "* [Bag screencast](https://youtu.be/-qIiJ1XtSv0)\n",
    "* [Bag API](https://docs.dask.org/en/latest/bag-api.html)\n",
    "* [Bag examples](https://examples.dask.org/bag.html)"
   ]
  },
  {
   "cell_type": "markdown",
   "metadata": {},
   "source": [
    "## Shutdown"
   ]
  },
  {
   "cell_type": "code",
   "execution_count": 31,
   "metadata": {
    "execution": {
     "iopub.execute_input": "2021-01-13T23:27:35.560125Z",
     "iopub.status.busy": "2021-01-13T23:27:35.559624Z",
     "iopub.status.idle": "2021-01-13T23:27:36.938301Z",
     "shell.execute_reply": "2021-01-13T23:27:36.937846Z"
    }
   },
   "outputs": [],
   "source": [
    "client.shutdown()"
   ]
  }
 ],
 "metadata": {
  "anaconda-cloud": {},
  "kernelspec": {
   "display_name": "Python 3",
   "language": "python",
   "name": "python3"
  },
  "language_info": {
   "codemirror_mode": {
    "name": "ipython",
    "version": 3
   },
   "file_extension": ".py",
   "mimetype": "text/x-python",
   "name": "python",
   "nbconvert_exporter": "python",
   "pygments_lexer": "ipython3",
   "version": "3.8.6"
  }
 },
 "nbformat": 4,
 "nbformat_minor": 4
}
